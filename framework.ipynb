{
 "cells": [
  {
   "cell_type": "markdown",
   "id": "46326df8",
   "metadata": {},
   "source": [
    "# Framework tests"
   ]
  },
  {
   "cell_type": "markdown",
   "id": "22584fb4",
   "metadata": {},
   "source": [
    "## Sonification class interactive tests"
   ]
  },
  {
   "cell_type": "code",
   "execution_count": null,
   "id": "5d4bba25",
   "metadata": {},
   "outputs": [],
   "source": [
    "import pandas as pd\n",
    "import panson as ps\n",
    "import os\n",
    "import time\n",
    "\n",
    "FILE_DIR = '../media/files'\n",
    "OUT_DIR = os.path.join(FILE_DIR, 'processed')"
   ]
  },
  {
   "cell_type": "code",
   "execution_count": null,
   "id": "d117d653",
   "metadata": {},
   "outputs": [],
   "source": [
    "df = pd.read_csv(os.path.join(OUT_DIR, \"phone.csv\"), sep=r',\\s*', engine='python')\n",
    "df.head()"
   ]
  },
  {
   "cell_type": "code",
   "execution_count": null,
   "id": "5395007b",
   "metadata": {},
   "outputs": [],
   "source": [
    "import sc3nb as scn"
   ]
  },
  {
   "cell_type": "code",
   "execution_count": null,
   "id": "5f9ec304",
   "metadata": {},
   "outputs": [],
   "source": [
    "# start scsynth\n",
    "# sc = scn.startup(start_sclang=False)\n",
    "sc = scn.startup()\n",
    "# connect scsynth to the system playback\n",
    "!jack_connect \"SuperCollider:out_1\" \"system:playback_1\"\n",
    "!jack_connect \"SuperCollider:out_2\" \"system:playback_2\""
   ]
  },
  {
   "cell_type": "code",
   "execution_count": null,
   "id": "6aa6bc81",
   "metadata": {},
   "outputs": [],
   "source": [
    "sc.exit()"
   ]
  },
  {
   "cell_type": "code",
   "execution_count": null,
   "id": "784d57c3",
   "metadata": {},
   "outputs": [],
   "source": [
    "# message style (explicit ID allocation)\n",
    "class AU04ContinuousSonification(ps.Sonification):\n",
    "    \n",
    "    def initialize(self, server):\n",
    "        return []\n",
    "    \n",
    "    def start(self, server):\n",
    "        self.au4_node_id = server.node_ids.allocate(1)[0]\n",
    "        \n",
    "        return [\n",
    "            scn.OSCMessage(\"/s_new\", [\"s2\", self.au4_node_id, 0, 0, \"amp\", 0])\n",
    "        ]\n",
    "    \n",
    "    def stop(self, server):\n",
    "        # actually this does nothing\n",
    "        server.node_ids.free([self.au4_node_id])\n",
    "        \n",
    "        return [\n",
    "            scn.OSCMessage(\"/g_freeAll\", [0])\n",
    "        ]\n",
    "    \n",
    "    def process(self, row, server):\n",
    "        msgs = []\n",
    "        \n",
    "        # only \"max\" should be enough (to clip the top part to 0.3)\n",
    "        amp = scn.linlin(row[\"AU04_r\"], 0, 1, 0, 0.3, \"minmax\")\n",
    "        # map the intensity of the AU in one octave range\n",
    "        freq = scn.midicps(scn.linlin(row[\"AU04_r\"], 0, 5, 69, 81))\n",
    "        \n",
    "        msgs.append(scn.OSCMessage(\"/n_set\", [self.au4_node_id, \"amp\", amp, \"freq\", freq]))\n",
    "        \n",
    "        return msgs"
   ]
  },
  {
   "cell_type": "code",
   "execution_count": null,
   "id": "33b23cbe",
   "metadata": {},
   "outputs": [],
   "source": [
    "# a (implicit ID allocation)\n",
    "class AU04ContinuousSonification(ps.Sonification):\n",
    "    \n",
    "    def initialize(self, server):\n",
    "        return []\n",
    "    \n",
    "    def start(self, server):\n",
    "        self.au4_node_id = server.node_ids.allocate(1)[0]\n",
    "        \n",
    "        return [\n",
    "            scn.OSCMessage(\"/s_new\", [\"s2\", self.au4_node_id, 0, 0, \"amp\", 0])\n",
    "        ]\n",
    "    \n",
    "    def stop(self, server):\n",
    "        # actually this does nothing\n",
    "        server.node_ids.free([self.au4_node_id])\n",
    "        \n",
    "        return [\n",
    "            scn.OSCMessage(\"/g_freeAll\", [0])\n",
    "        ]\n",
    "    \n",
    "    def process(self, row, server):\n",
    "        msgs = []\n",
    "        \n",
    "        # only \"max\" should be enough (to clip the top part to 0.3)\n",
    "        amp = scn.linlin(row[\"AU04_r\"], 0, 1, 0, 0.3, \"minmax\")\n",
    "        # map the intensity of the AU in one octave range\n",
    "        freq = scn.midicps(scn.linlin(row[\"AU04_r\"], 0, 5, 69, 81))\n",
    "        \n",
    "        msgs.append(scn.OSCMessage(\"/n_set\", [self.au4_node_id, \"amp\", amp, \"freq\", freq]))\n",
    "        \n",
    "        return msgs"
   ]
  },
  {
   "cell_type": "code",
   "execution_count": null,
   "id": "c70c1ac5",
   "metadata": {},
   "outputs": [],
   "source": [
    "son = AU04ContinuousSonification()"
   ]
  },
  {
   "cell_type": "markdown",
   "id": "5d127812",
   "metadata": {},
   "source": [
    "### Realtime usage"
   ]
  },
  {
   "cell_type": "markdown",
   "id": "49059d9c",
   "metadata": {},
   "source": [
    "#### Offline"
   ]
  },
  {
   "cell_type": "code",
   "execution_count": null,
   "id": "ea4b8a20",
   "metadata": {},
   "outputs": [],
   "source": [
    "# send synthdefs\n",
    "for msg in son.initialize():\n",
    "    sc.server.send(msg)"
   ]
  },
  {
   "cell_type": "markdown",
   "id": "65363b57",
   "metadata": {},
   "source": [
    "**sc.server.bundler vs Bundler**\n",
    "* sc.server.bundler: adds server.latency to the timestamp (also the absolute one)\n",
    "* Bundler: does not add anything to the timestamp"
   ]
  },
  {
   "cell_type": "code",
   "execution_count": null,
   "id": "d701d126",
   "metadata": {},
   "outputs": [],
   "source": [
    "# by default is 0\n",
    "sc.server.latency = 0.2"
   ]
  },
  {
   "cell_type": "code",
   "execution_count": null,
   "id": "2893988b",
   "metadata": {
    "ExecuteTime": {
     "end_time": "2021-11-26T01:21:27.712877Z",
     "start_time": "2021-11-26T01:21:16.510942Z"
    }
   },
   "outputs": [],
   "source": [
    "t0 = time.time()\n",
    "\n",
    "# instantiate synths asap\n",
    "for msg in son.start():\n",
    "    sc.server.send(msg)\n",
    "\n",
    "# wait one control cycle to be sure that synths are instantiated\n",
    "# time.sleep(1 / 44100 * 64)\n",
    "\n",
    "\n",
    "# iterate over dataframe rows\n",
    "for _, row in df.iterrows():\n",
    "    \n",
    "    msgs = son.process(row)\n",
    "    \n",
    "    # bundle and send\n",
    "    with sc.server.bundler(t0 + row.timestamp) as bundler:\n",
    "        # the bundle will play at t0 + timestamp\n",
    "        \n",
    "        # bundle\n",
    "        for msg in msgs:\n",
    "            bundler.add(msg)\n",
    "    \n",
    "    # sleep for the missing time\n",
    "    waiting_time = t0 + row.timestamp - time.time()\n",
    "    \n",
    "    if waiting_time > 0:\n",
    "        time.sleep(waiting_time)\n",
    "\n",
    "        \n",
    "# instantiate synths asap\n",
    "for msg in son.stop():\n",
    "    sc.server.send(msg)"
   ]
  },
  {
   "cell_type": "code",
   "execution_count": null,
   "id": "6d8d5e1a",
   "metadata": {
    "ExecuteTime": {
     "end_time": "2021-11-26T01:03:14.039783Z",
     "start_time": "2021-11-26T01:03:13.868257Z"
    }
   },
   "outputs": [],
   "source": [
    "sc.server.free_all()"
   ]
  },
  {
   "cell_type": "code",
   "execution_count": null,
   "id": "1b3927b5",
   "metadata": {},
   "outputs": [],
   "source": [
    "with sc.server.bundler(t0 + row.timestamp) as bundler:\n",
    "    sc.server.free_all()\n",
    "    \n",
    "bundler.messages()"
   ]
  },
  {
   "cell_type": "markdown",
   "id": "7459daa4",
   "metadata": {},
   "source": [
    "#### Online"
   ]
  },
  {
   "cell_type": "code",
   "execution_count": null,
   "id": "5bf8c0a5",
   "metadata": {},
   "outputs": [],
   "source": []
  },
  {
   "cell_type": "markdown",
   "id": "92f5771e",
   "metadata": {},
   "source": [
    "### NRT usage"
   ]
  },
  {
   "cell_type": "code",
   "execution_count": null,
   "id": "c3da3c55",
   "metadata": {},
   "outputs": [],
   "source": [
    "from sc3nb import SynthDef"
   ]
  },
  {
   "cell_type": "code",
   "execution_count": null,
   "id": "8ab269d5",
   "metadata": {},
   "outputs": [],
   "source": [
    "synthdef = SynthDef(\n",
    "    \"s2\",\n",
    "    r\"\"\"{ | freq=400, amp=0.3, num=4, pan=0, lg=0.1, gate=1 |\n",
    "            Out.ar(0, Pan2.ar(\n",
    "                Blip.ar(freq.lag(lg),  num) * EnvGen.kr(Env.asr(0.0, 1.0, 1.0), gate, doneAction: Done.freeSelf),\n",
    "                    pan.lag(lg),\n",
    "                    amp.lag(lg)\n",
    "                )\n",
    "            )\n",
    "        }\"\"\"\n",
    ")"
   ]
  },
  {
   "cell_type": "code",
   "execution_count": null,
   "id": "9d94ca1e",
   "metadata": {},
   "outputs": [],
   "source": [
    "with sc.server.bundler(send_on_exit=False) as bundler:\n",
    "    synthdef.add()\n",
    "    \n",
    "bundler.messages()"
   ]
  },
  {
   "cell_type": "code",
   "execution_count": null,
   "id": "3cbdbb15",
   "metadata": {},
   "outputs": [],
   "source": [
    "with sc.server.bundler(send_on_exit=False) as bundler:\n",
    "    # setup at the beginning of the score\n",
    "    synthdef.add()\n",
    "    \n",
    "    # instantiate synths\n",
    "    for msg in son.start():\n",
    "        bundler.add(0.0, msg)\n",
    "    \n",
    "    # iterate over dataframe rows\n",
    "    for _, row in df.iterrows():\n",
    "        \n",
    "        msgs = son.process(row)\n",
    "        \n",
    "        # bundle\n",
    "        for msg in msgs:\n",
    "            bundler.add(row.timestamp, msg)\n",
    "\n",
    "    # TODO: this way the last line will not count? do we want to add an offset?\n",
    "    # /c_set [0, 0] will close the audio file\n",
    "    bundler.add(row.timestamp, \"/c_set\", [0, 0])"
   ]
  },
  {
   "cell_type": "code",
   "execution_count": null,
   "id": "4f6ef8f4",
   "metadata": {},
   "outputs": [],
   "source": [
    "bundler.messages()"
   ]
  },
  {
   "cell_type": "code",
   "execution_count": null,
   "id": "502633e9",
   "metadata": {},
   "outputs": [],
   "source": [
    "from sc3nb import Score\n",
    "Score.record_nrt(bundler.messages(), \"/tmp/score.osc\", \"score.wav\", header_format=\"WAV\")"
   ]
  },
  {
   "cell_type": "markdown",
   "id": "c711b74d",
   "metadata": {},
   "source": [
    "## Bundling experiments"
   ]
  },
  {
   "cell_type": "code",
   "execution_count": null,
   "id": "53a8867c",
   "metadata": {},
   "outputs": [],
   "source": [
    "from sc3nb import Synth"
   ]
  },
  {
   "cell_type": "code",
   "execution_count": null,
   "id": "d7d25861",
   "metadata": {},
   "outputs": [],
   "source": [
    "synth_def = SynthDef('random',\n",
    "\"\"\"{ |out|\n",
    "    var osc, env, freq;\n",
    "    freq = Rand(400, 800);\n",
    "    osc = SinOsc.ar(freq, 0, 0.2);\n",
    "    env = Line.kr(1, 0, 1, doneAction: Done.freeSelf);\n",
    "    Out.ar(out, osc * env);\n",
    "}\"\"\")"
   ]
  },
  {
   "cell_type": "code",
   "execution_count": null,
   "id": "660aa8a8",
   "metadata": {},
   "outputs": [],
   "source": [
    "synth_def.add()"
   ]
  },
  {
   "cell_type": "markdown",
   "id": "1faa6de9",
   "metadata": {},
   "source": [
    "The context is able to capture instantiation messages (even inside functions)"
   ]
  },
  {
   "cell_type": "code",
   "execution_count": null,
   "id": "0f899f65",
   "metadata": {},
   "outputs": [],
   "source": [
    "# with sc.server.bundler(send_on_exit=False) as bundler:\n",
    "#     Synth(\"random\")\n",
    "    \n",
    "# bundler.messages()\n",
    "\n",
    "def alloc_synth():\n",
    "    Synth(\"random\")\n",
    "    \n",
    "with sc.server.bundler(send_on_exit=False) as bundler:\n",
    "    alloc_synth()\n",
    "    \n",
    "bundler.messages()"
   ]
  },
  {
   "cell_type": "markdown",
   "id": "57689cd8",
   "metadata": {},
   "source": [
    "## Thread behaviour"
   ]
  },
  {
   "cell_type": "markdown",
   "id": "e515201b",
   "metadata": {},
   "source": [
    "The threads outputs results in the lastly executed cell.\n",
    "\n",
    "The cell return when the main thread finishes."
   ]
  },
  {
   "cell_type": "code",
   "execution_count": null,
   "id": "7473f239",
   "metadata": {},
   "outputs": [],
   "source": [
    "import threading\n",
    "import time\n",
    "\n",
    "def worker():\n",
    "    print(threading.current_thread().getName(), 'Starting')\n",
    "    time.sleep(10)\n",
    "    print(threading.current_thread().getName(), 'Exiting')\n",
    "\n",
    "\n",
    "def my_service():\n",
    "    print(threading.current_thread().getName(), 'Starting')\n",
    "    time.sleep(5)\n",
    "    print(threading.current_thread().getName(), 'Exiting')\n",
    "\n",
    "\n",
    "t = threading.Thread(name='my_service', target=my_service)\n",
    "w = threading.Thread(name='worker', target=worker)\n",
    "w2 = threading.Thread(target=worker)  # use default name\n",
    "\n",
    "w.start()\n",
    "w2.start()\n",
    "t.start()\n",
    "\n",
    "# # wait until threads terminate\n",
    "# w.join()\n",
    "# w2.join()\n",
    "# t.join()"
   ]
  },
  {
   "cell_type": "code",
   "execution_count": null,
   "id": "af37a040",
   "metadata": {},
   "outputs": [],
   "source": [
    "print('test')"
   ]
  },
  {
   "cell_type": "markdown",
   "id": "7ac5f3bf",
   "metadata": {},
   "source": [
    "## Misc"
   ]
  },
  {
   "cell_type": "markdown",
   "id": "9572b71e",
   "metadata": {},
   "source": [
    "Save frame information as csv as expected by the videoviewer"
   ]
  },
  {
   "cell_type": "code",
   "execution_count": null,
   "id": "b35aa09b",
   "metadata": {},
   "outputs": [],
   "source": [
    "timestamps = df.timestamp.to_numpy()\n",
    "np.savetxt('phone.avi.csv', timestamps, delimiter=',')"
   ]
  },
  {
   "cell_type": "markdown",
   "id": "5bb9baf3",
   "metadata": {},
   "source": [
    "### Video"
   ]
  },
  {
   "cell_type": "markdown",
   "id": "2a38c085",
   "metadata": {},
   "source": [
    "#### ipywidgets"
   ]
  },
  {
   "cell_type": "code",
   "execution_count": null,
   "id": "cf69bca0",
   "metadata": {},
   "outputs": [],
   "source": [
    "from ipywidgets import Video\n",
    "video = Video.from_file('NRT_videos/phone-processed-son.mp4')\n",
    "video"
   ]
  },
  {
   "cell_type": "code",
   "execution_count": null,
   "id": "a151ac32",
   "metadata": {},
   "outputs": [],
   "source": [
    "from ipywidgets import Image\n",
    "image = Image()"
   ]
  },
  {
   "cell_type": "markdown",
   "id": "908127a3",
   "metadata": {},
   "source": [
    "#### PyQt"
   ]
  },
  {
   "cell_type": "markdown",
   "id": "96e69776",
   "metadata": {},
   "source": [
    "The following cell enable PyQt5 event loop integration. This is done by opening a QApplication for your notebook. This means that we have to avoid creating QApplication objects in our code (and consequenctly to start the event loop).\n",
    "* https://stackoverflow.com/questions/30606462/closing-a-pyqt-widget-in-ipython-notebook-without-using-sys-exit\n",
    "\n",
    "We can run the following magic as many times as we want, but we have to avoid creating QApplications in our code."
   ]
  },
  {
   "cell_type": "code",
   "execution_count": null,
   "id": "c82300ae",
   "metadata": {},
   "outputs": [],
   "source": [
    "%gui qt5\n",
    "\n",
    "from PyQt5 import QtWidgets, QtCore\n",
    "import pyqtgraph as pg"
   ]
  },
  {
   "cell_type": "code",
   "execution_count": null,
   "id": "39906d44",
   "metadata": {},
   "outputs": [],
   "source": [
    "QtCore.QCoreApplication.instance()"
   ]
  },
  {
   "cell_type": "markdown",
   "id": "4022729f",
   "metadata": {},
   "source": [
    "The following disables IPython GUI event loop integration."
   ]
  },
  {
   "cell_type": "code",
   "execution_count": null,
   "id": "33d028f4",
   "metadata": {},
   "outputs": [],
   "source": [
    "# %gui"
   ]
  },
  {
   "cell_type": "code",
   "execution_count": null,
   "id": "b9ff14a2",
   "metadata": {},
   "outputs": [],
   "source": [
    "# # GUI initialization\n",
    "# window = QtWidgets.QWidget()\n",
    "\n",
    "# imggv = pg.GraphicsView()\n",
    "# viewbox = pg.ViewBox()\n",
    "# viewbox.setAspectLocked()\n",
    "# viewbox.invertY(True)\n",
    "\n",
    "# imggv.setCentralItem(viewbox)\n",
    "\n",
    "# img = pg.ImageItem(np.zeros((100, 100, 3)))  # Todo: 3 -> channel variable\n",
    "# viewbox.addItem(img)\n",
    "\n",
    "# layout = QtWidgets.QGridLayout()\n",
    "# layout.addWidget(imggv, 0, 0, 4, 4)\n",
    "# window.setLayout(layout)\n",
    "\n",
    "# # window always on top\n",
    "# window.setWindowFlag(QtCore.Qt.WindowStaysOnTopHint)\n",
    "\n",
    "# window.show()"
   ]
  },
  {
   "cell_type": "code",
   "execution_count": null,
   "id": "47208603",
   "metadata": {},
   "outputs": [],
   "source": [
    "from videoviewer import NBVideoViewer\n",
    "\n",
    "vv = NBVideoViewer()\n",
    "vv.start()"
   ]
  },
  {
   "cell_type": "code",
   "execution_count": null,
   "id": "a5d13548",
   "metadata": {},
   "outputs": [],
   "source": [
    "import skvideo\n",
    "import skvideo.io\n",
    "\n",
    "frames = skvideo.io.vread('files/processed/phone.avi')\n",
    "frames.shape"
   ]
  },
  {
   "cell_type": "code",
   "execution_count": null,
   "id": "0626107f",
   "metadata": {},
   "outputs": [],
   "source": [
    "# frame = frames[0, ::5, ::5, [0,1,2]].T\n",
    "# img.setImage(frame)"
   ]
  },
  {
   "cell_type": "code",
   "execution_count": null,
   "id": "d2ae37fc",
   "metadata": {},
   "outputs": [],
   "source": [
    "import ipywidgets as widgets"
   ]
  },
  {
   "cell_type": "code",
   "execution_count": null,
   "id": "70396a71",
   "metadata": {},
   "outputs": [],
   "source": [
    "au4_node_id = 1234\n",
    "# instantiate synths\n",
    "sc.server.msg(\"/s_new\", [\"s2\", au4_node_id, 0, 0, \"amp\", 0])"
   ]
  },
  {
   "cell_type": "code",
   "execution_count": null,
   "id": "536c89ae",
   "metadata": {},
   "outputs": [],
   "source": [
    "sc.server.free_all()"
   ]
  },
  {
   "cell_type": "code",
   "execution_count": null,
   "id": "31f73c3d",
   "metadata": {},
   "outputs": [],
   "source": [
    "max_ = 332\n",
    "\n",
    "# out = widgets.Output()\n",
    "\n",
    "def on_change(change):\n",
    "    # with out:\n",
    "    #    print(change.new)\n",
    "    \n",
    "    idx = change.new\n",
    "    \n",
    "    row = df.iloc[idx]\n",
    "\n",
    "    # only \"max\" should be enough (to clip the top part to 0.3)\n",
    "    amp = scn.linlin(row[\"AU04_r\"], 0, 1, 0, 0.3, \"minmax\")   # TODO: exponential mapping\n",
    "    # map the intensity of the AU in one octave range\n",
    "    freq = scn.midicps(scn.linlin(row[\"AU04_r\"], 0, 5, 69, 81))\n",
    "\n",
    "    with sc.server.bundler(0.1) as bundler:\n",
    "        sc.server.msg(\"/n_set\", [au4_node_id, \"amp\", amp, \"freq\", freq], bundle=True)\n",
    "\n",
    "    frame = frames[idx, ::5, ::5, [0,1,2]]\n",
    "    vv.update(frame)\n",
    "    \n",
    "def on_play_stop(change):\n",
    "    \n",
    "    # when the video is paused\n",
    "    if change.now == False:\n",
    "        # silence all the synths\n",
    "        with sc.server.bundler() as bundler:\n",
    "            sc.server.msg(\"/n_set\", [au4_node_id, \"amp\", 0], bundle=True)\n",
    "    \n",
    "        \n",
    "slider = widgets.IntSlider(max=max_)\n",
    "\n",
    "# can't play data with unregolar sampling rate\n",
    "play = widgets.Play(\n",
    "    max=max_,\n",
    "    step=1,\n",
    "    interval=33,\n",
    "    disabled=False\n",
    ")\n",
    "\n",
    "play.observe(on_change, names='value')\n",
    "play.observe(on_play_stop, names='_playing')\n",
    "\n",
    "widgets.jslink((play, 'value'), (slider, 'value'))\n",
    "widgets.HBox([play, slider])"
   ]
  },
  {
   "cell_type": "code",
   "execution_count": null,
   "id": "31b1f3d9",
   "metadata": {},
   "outputs": [],
   "source": [
    "def sonify_row(df_row):\n",
    "    pass"
   ]
  },
  {
   "cell_type": "code",
   "execution_count": null,
   "id": "ccc675c8",
   "metadata": {},
   "outputs": [],
   "source": [
    "def sonification_callback(event):\n",
    "    frame_idx = event.cls.value\n",
    "    \n",
    "#     sonify_row(df.iloc[frame_idx])\n",
    "    img.setImage(frames[frame_idx, ::5, ::5, [0,1,2]].T)"
   ]
  }
 ],
 "metadata": {
  "kernelspec": {
   "display_name": "Python [conda env:face]",
   "language": "python",
   "name": "conda-env-face-py"
  },
  "language_info": {
   "codemirror_mode": {
    "name": "ipython",
    "version": 3
   },
   "file_extension": ".py",
   "mimetype": "text/x-python",
   "name": "python",
   "nbconvert_exporter": "python",
   "pygments_lexer": "ipython3",
   "version": "3.9.7"
  }
 },
 "nbformat": 4,
 "nbformat_minor": 5
}
