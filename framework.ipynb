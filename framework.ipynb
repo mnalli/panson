{
 "cells": [
  {
   "cell_type": "markdown",
   "id": "46326df8",
   "metadata": {},
   "source": [
    "# Framework"
   ]
  },
  {
   "cell_type": "markdown",
   "id": "22584fb4",
   "metadata": {},
   "source": [
    "## Initialization"
   ]
  },
  {
   "cell_type": "code",
   "execution_count": null,
   "id": "5d4bba25",
   "metadata": {},
   "outputs": [],
   "source": [
    "import pandas as pd\n",
    "import os\n",
    "import time\n",
    "import subprocess\n",
    "\n",
    "FILE_DIR = '../media/files'\n",
    "OUT_DIR = os.path.join(FILE_DIR, 'processed')"
   ]
  },
  {
   "cell_type": "code",
   "execution_count": null,
   "id": "5395007b",
   "metadata": {},
   "outputs": [],
   "source": [
    "import sc3nb as scn"
   ]
  },
  {
   "cell_type": "code",
   "execution_count": null,
   "id": "5f9ec304",
   "metadata": {},
   "outputs": [],
   "source": [
    "# start scsynth\n",
    "# sc = scn.startup(start_sclang=False)\n",
    "sc = scn.startup()\n",
    "\n",
    "# connect scsynth to the system playback\n",
    "!jack_connect \"SuperCollider:out_1\" \"system:playback_1\"\n",
    "!jack_connect \"SuperCollider:out_2\" \"system:playback_2\"\n",
    "\n",
    "# multiclient setup by default\n",
    "sc.server.dump_tree()"
   ]
  },
  {
   "cell_type": "code",
   "execution_count": null,
   "id": "58741444",
   "metadata": {},
   "outputs": [],
   "source": [
    "sc.exit()"
   ]
  },
  {
   "cell_type": "markdown",
   "id": "a15a3fb5",
   "metadata": {},
   "source": [
    "## Sonification definition"
   ]
  },
  {
   "cell_type": "code",
   "execution_count": null,
   "id": "8d3e0afd",
   "metadata": {},
   "outputs": [],
   "source": [
    "import panson as ps\n",
    "from panson import bundle"
   ]
  },
  {
   "cell_type": "markdown",
   "id": "0f05b2fd",
   "metadata": {},
   "source": [
    "### Message-style (explicit ID allocation)"
   ]
  },
  {
   "cell_type": "markdown",
   "id": "8fc44d2c",
   "metadata": {},
   "source": [
    "#### Explicit bundling"
   ]
  },
  {
   "cell_type": "code",
   "execution_count": null,
   "id": "784d57c3",
   "metadata": {},
   "outputs": [],
   "source": [
    "from sc3nb.osc.osc_communication import Bundler\n",
    "\n",
    "# message style (explicit ID allocation)\n",
    "class AU04ContinuousSonification(ps.Sonification):\n",
    "    \n",
    "    def _initialize(self):\n",
    "        bundler = Bundler()\n",
    "        bundler.add(\n",
    "            0,\n",
    "            \"/d_load\",\n",
    "            ['/home/michele/Desktop/Thesis/tools/sc3nb/src/sc3nb/resources/synthdefs/s2.scsyndef']\n",
    "        )\n",
    "        return bundler\n",
    "    \n",
    "    def _start(self):\n",
    "        bundler = Bundler()\n",
    "        self.au4_node_id = self._s.node_ids.allocate(1)[0]        \n",
    "        bundler.add(0, \"/s_new\", [\"s2\", self.au4_node_id, 0, 0, \"amp\", 0])\n",
    "        return bundler\n",
    "    \n",
    "    def _stop(self, server):\n",
    "        bundler = Bundler()\n",
    "        self._s.node_ids.free([self.au4_node_id])    # actually this does nothing\n",
    "        bundler.add(0, \"/g_freeAll\", [0])\n",
    "        return bundler\n",
    "    \n",
    "    def _process(self, row):\n",
    "        bundler = Bundler()\n",
    "        # only \"max\" should be enough (to clip the top part to 0.3)\n",
    "        amp = scn.linlin(row[\"AU04_r\"], 0, 1, 0, 0.3, \"minmax\")\n",
    "        # map the intensity of the AU in one octave range\n",
    "        freq = scn.midicps(scn.linlin(row[\"AU04_r\"], 0, 5, 69, 81))\n",
    "        bundler.add(0, \"/n_set\", [self.au4_node_id, \"amp\", amp, \"freq\", freq])\n",
    "        return bundler"
   ]
  },
  {
   "cell_type": "code",
   "execution_count": null,
   "id": "e27937d1",
   "metadata": {},
   "outputs": [],
   "source": [
    "from sc3nb.osc.osc_communication import Bundler\n",
    "\n",
    "# # message style (explicit ID allocation)\n",
    "class AU04ContinuousSonification(ps.Sonification):\n",
    "    \n",
    "    def _initialize(self):\n",
    "        with Bundler(send_on_exit=False) as bundler:\n",
    "            self._s.msg(\n",
    "                \"/d_load\",\n",
    "                ['/home/michele/Desktop/Thesis/tools/sc3nb/src/sc3nb/resources/synthdefs/s2.scsyndef'],\n",
    "                bundle=True\n",
    "            )\n",
    "        return bundler\n",
    "    \n",
    "    def _start(self):\n",
    "        with Bundler(send_on_exit=False) as bundler:\n",
    "            self.au4_node_id = self._s.node_ids.allocate(1)[0]\n",
    "            self._s.msg(\"/s_new\", [\"s2\", self.au4_node_id, 0, 0, \"amp\", 0], bundle=True)\n",
    "        return bundler\n",
    "    \n",
    "    def _stop(self):\n",
    "        with Bundler(send_on_exit=False) as bundler:\n",
    "            self._s.node_ids.free([self.au4_node_id])    # actually this does nothing\n",
    "            self._s.msg(\"/g_freeAll\", [0], bundle=True)\n",
    "        return bundler\n",
    "    \n",
    "    def _process(self, row):\n",
    "        with Bundler(send_on_exit=False) as bundler:\n",
    "            # only \"max\" should be enough (to clip the top part to 0.3)\n",
    "            amp = scn.linlin(row[\"AU04_r\"], 0, 1, 0, 0.3, \"minmax\")\n",
    "            # map the intensity of the AU in one octave range\n",
    "            freq = scn.midicps(scn.linlin(row[\"AU04_r\"], 0, 5, 69, 81))\n",
    "            self._s.msg(\"/n_set\", [self.au4_node_id, \"amp\", amp, \"freq\", freq], bundle=True)\n",
    "        return bundler"
   ]
  },
  {
   "cell_type": "markdown",
   "id": "13fbcd00",
   "metadata": {},
   "source": [
    "#### Implicit bundling"
   ]
  },
  {
   "cell_type": "markdown",
   "id": "8a47aa7c",
   "metadata": {},
   "source": [
    "TODO: allow the user to remove flag bundle=True???"
   ]
  },
  {
   "cell_type": "code",
   "execution_count": null,
   "id": "4d17dac9",
   "metadata": {},
   "outputs": [],
   "source": [
    "from sc3nb.osc.osc_communication import Bundler\n",
    "\n",
    "class AU04ContinuousSonification(ps.Sonification):\n",
    "    \n",
    "    @bundle\n",
    "    def _initialize(self):\n",
    "        self._s.msg(\n",
    "            \"/d_load\",\n",
    "            ['/home/michele/Desktop/Thesis/tools/sc3nb/src/sc3nb/resources/synthdefs/s2.scsyndef'],\n",
    "            bundle=True\n",
    "        )\n",
    "    \n",
    "    @bundle\n",
    "    def _start(self):\n",
    "        self.au4_node_id = self._s.node_ids.allocate(1)[0]\n",
    "        self._s.msg(\"/s_new\", [\"s2\", self.au4_node_id, 0, 0, \"amp\", 0], bundle=True)\n",
    "    \n",
    "    @bundle\n",
    "    def _stop(self):\n",
    "        self._s.node_ids.free([self.au4_node_id])    # actually this does nothing\n",
    "        self._s.msg(\"/g_freeAll\", [0], bundle=True)\n",
    "    \n",
    "    @bundle\n",
    "    def _process(self, row):\n",
    "        # only \"max\" should be enough (to clip the top part to 0.3)\n",
    "        amp = scn.linlin(row[\"AU04_r\"], 0, 1, 0, 0.3, \"minmax\")\n",
    "        # map the intensity of the AU in one octave range\n",
    "        freq = scn.midicps(scn.linlin(row[\"AU04_r\"], 0, 5, 69, 81))\n",
    "        self._s.msg(\"/n_set\", [self.au4_node_id, \"amp\", amp, \"freq\", freq], bundle=True)"
   ]
  },
  {
   "cell_type": "markdown",
   "id": "4be8fb04",
   "metadata": {},
   "source": [
    "### High-level style (implicit ID allocation)"
   ]
  },
  {
   "cell_type": "markdown",
   "id": "5eb32da4",
   "metadata": {},
   "source": [
    "#### Explicit bundling"
   ]
  },
  {
   "cell_type": "code",
   "execution_count": null,
   "id": "cc30644e",
   "metadata": {},
   "outputs": [],
   "source": [
    "from sc3nb.osc.osc_communication import Bundler\n",
    "from sc3nb import SynthDef\n",
    "\n",
    "\n",
    "class AU04ContinuousSonification(ps.Sonification):\n",
    "\n",
    "    def _initialize(self):\n",
    "        with Bundler(send_on_exit=False) as bundler:\n",
    "            # self._s.load_synthdefs()\n",
    "            SynthDef.load(\"/home/michele/Desktop/Thesis/tools/sc3nb/src/sc3nb/resources/synthdefs/s2.scsyndef\")\n",
    "        return bundler\n",
    "\n",
    "    def _start(self):\n",
    "        with Bundler(send_on_exit=False) as bundler:\n",
    "            self.synth = scn.Synth(\"s2\", {\"amp\": 0})\n",
    "        return bundler\n",
    "    \n",
    "    def _stop(self):\n",
    "        with Bundler(send_on_exit=False) as bundler:\n",
    "            self._s.free_all()\n",
    "        return bundler\n",
    "    \n",
    "    def _process(self, row):\n",
    "        with Bundler(send_on_exit=False) as bundler:\n",
    "            self.synth.set(\n",
    "                # only \"max\" should be enough (to clip the top part to 0.3)\n",
    "                \"amp\", scn.linlin(row[\"AU04_r\"], 0, 1, 0, 0.3, \"minmax\"),\n",
    "                # map the intensity of the AU in one octave range\n",
    "                \"freq\", scn.midicps(scn.linlin(row[\"AU04_r\"], 0, 5, 69, 81))\n",
    "            )\n",
    "        return bundler"
   ]
  },
  {
   "cell_type": "markdown",
   "id": "f1da589a",
   "metadata": {},
   "source": [
    "#### Implicit bundling"
   ]
  },
  {
   "cell_type": "code",
   "execution_count": null,
   "id": "94b29fb6",
   "metadata": {},
   "outputs": [],
   "source": [
    "from sc3nb import SynthDef\n",
    "\n",
    "# a (implicit ID allocation)\n",
    "class AU04ContinuousSonification(ps.Sonification):\n",
    "    \n",
    "    def __init__(self):\n",
    "        super().__init__()\n",
    "        self.amp = 1\n",
    "    \n",
    "    @bundle\n",
    "    def _initialize(self):\n",
    "        SynthDef.load(\"/home/michele/Desktop/Thesis/tools/sc3nb/src/sc3nb/resources/synthdefs/s2.scsyndef\")\n",
    "\n",
    "    @bundle\n",
    "    def _start(self):\n",
    "        self.synth = scn.Synth(\"s2\", {\"amp\": 0})\n",
    "    \n",
    "    @bundle\n",
    "    def _stop(self):\n",
    "        self._s.free_all()\n",
    "    \n",
    "    @bundle\n",
    "    def _process(self, row):\n",
    "        self.synth.set(\n",
    "            # only \"max\" should be enough (to clip the top part to 0.3)\n",
    "            \"amp\", self.amp * scn.linlin(row[\"AU04_r\"], 0, 1, 0, 0.3, \"minmax\"),\n",
    "            # map the intensity of the AU in one octave range\n",
    "            \"freq\", scn.midicps(scn.linlin(row[\"AU04_r\"], 0, 5, 69, 81))\n",
    "        )"
   ]
  },
  {
   "cell_type": "code",
   "execution_count": null,
   "id": "c70c1ac5",
   "metadata": {},
   "outputs": [],
   "source": [
    "son = AU04ContinuousSonification()"
   ]
  },
  {
   "cell_type": "code",
   "execution_count": null,
   "id": "cab27f90",
   "metadata": {},
   "outputs": [],
   "source": [
    "son.set('amp', 0.5)"
   ]
  },
  {
   "cell_type": "code",
   "execution_count": null,
   "id": "1bac3c5f",
   "metadata": {},
   "outputs": [],
   "source": [
    "son.get('amp')"
   ]
  },
  {
   "cell_type": "markdown",
   "id": "5d127812",
   "metadata": {},
   "source": [
    "### Realtime usage"
   ]
  },
  {
   "cell_type": "code",
   "execution_count": null,
   "id": "c98332b9",
   "metadata": {},
   "outputs": [],
   "source": [
    "sc.server.latency = 0.1"
   ]
  },
  {
   "cell_type": "markdown",
   "id": "49059d9c",
   "metadata": {},
   "source": [
    "#### Offline"
   ]
  },
  {
   "cell_type": "code",
   "execution_count": null,
   "id": "7f2e0905",
   "metadata": {},
   "outputs": [],
   "source": [
    "df = pd.read_csv(os.path.join(OUT_DIR, \"phone.csv\"), sep=r',\\s*', engine='python')\n",
    "df.head()"
   ]
  },
  {
   "cell_type": "code",
   "execution_count": null,
   "id": "b235951b",
   "metadata": {},
   "outputs": [],
   "source": [
    "dp = ps.DataPlayer(son).load(df)\n",
    "dp   # TODO: display"
   ]
  },
  {
   "cell_type": "code",
   "execution_count": null,
   "id": "142c1f4f",
   "metadata": {},
   "outputs": [],
   "source": [
    "dp.rate = 1"
   ]
  },
  {
   "cell_type": "code",
   "execution_count": null,
   "id": "4eb9e8e9",
   "metadata": {},
   "outputs": [],
   "source": [
    "dp.play()\n",
    "# dp._play()"
   ]
  },
  {
   "cell_type": "code",
   "execution_count": null,
   "id": "1bddb0ec",
   "metadata": {},
   "outputs": [],
   "source": [
    "dp.pause()"
   ]
  },
  {
   "cell_type": "code",
   "execution_count": null,
   "id": "bc30c76e",
   "metadata": {},
   "outputs": [],
   "source": [
    "dp.seek(0.3)"
   ]
  },
  {
   "cell_type": "markdown",
   "id": "66043ed0",
   "metadata": {},
   "source": [
    "#### Online"
   ]
  },
  {
   "cell_type": "code",
   "execution_count": null,
   "id": "cfcc64ae",
   "metadata": {},
   "outputs": [],
   "source": [
    "# import logging\n",
    "# logging.basicConfig(level=logging.DEBUG)"
   ]
  },
  {
   "cell_type": "code",
   "execution_count": null,
   "id": "f60e908a",
   "metadata": {},
   "outputs": [],
   "source": [
    "import csv\n",
    "\n",
    "FIFO = os.path.join(FILE_DIR, 'pipe.csv')\n",
    "\n",
    "def data_generator():\n",
    "    with open(FIFO, 'r') as fifo:\n",
    "        # the reader attempts to execute fifo.readline()\n",
    "        # which blocks if there are no lines\n",
    "        reader = csv.reader(fifo, skipinitialspace=True)\n",
    "        \n",
    "        header = next(reader)\n",
    "        \n",
    "        # the loop ends when the pipe is closed from the writing side\n",
    "        for i, row in enumerate(reader):\n",
    "            series = pd.Series(row, header, dtype='float', name=i)\n",
    "            yield series"
   ]
  },
  {
   "cell_type": "code",
   "execution_count": null,
   "id": "bd289522",
   "metadata": {},
   "outputs": [],
   "source": [
    "CONTAINER_NAME = 'openface'\n",
    "\n",
    "# base directory of the container\n",
    "CONTAINER_BASE_DIR = '/home/openface-build'\n",
    "# directory with executalbles in the container\n",
    "CONTAINER_BIN_DIR = os.path.join(CONTAINER_BASE_DIR, 'build/bin')\n",
    "\n",
    "FILE_DIR = '../media/files'\n",
    "OUT_DIR = os.path.join(FILE_DIR, 'processed')\n",
    "\n",
    "CONTAINER_FILE_DIR = os.path.join(CONTAINER_BASE_DIR, 'files')\n",
    "CONTAINER_OUT_DIR = os.path.join(CONTAINER_FILE_DIR, 'processed')\n",
    "\n",
    "CONTAINER_EXECUTABLE = os.path.join(CONTAINER_BIN_DIR, 'FeatureExtraction')\n",
    "\n",
    "def feature_extraction_online(pipe='files/pipe'):\n",
    "    command = [\n",
    "        'docker', 'exec', CONTAINER_NAME, CONTAINER_EXECUTABLE,\n",
    "        '-device', # use default device\n",
    "        '-pose', '-gaze', '-aus',\n",
    "        # '-tracked'\n",
    "        '-of', pipe\n",
    "    ]\n",
    "    \n",
    "    # capture and combine stdout and stderr into one stream and set as text stream\n",
    "    proc = subprocess.Popen(command, stdout=subprocess.PIPE, stderr=subprocess.STDOUT, universal_newlines=True)    \n",
    "\n",
    "    print('Starting real-time analysis...')\n",
    "    print('Open the pipe from the read side to start the feature stream')\n",
    "    \n",
    "    return proc\n",
    "\n",
    "def kill_feature_extraction_online():\n",
    "    # !docker exec -it openface pkill FeatureExt\n",
    "    command = ['docker', 'exec', CONTAINER_NAME, 'pkill', 'FeatureExt']\n",
    "    subprocess.run(command)"
   ]
  },
  {
   "cell_type": "code",
   "execution_count": null,
   "id": "2516ed42",
   "metadata": {},
   "outputs": [],
   "source": [
    "kill_feature_extraction_online()"
   ]
  },
  {
   "cell_type": "code",
   "execution_count": null,
   "id": "8449aedf",
   "metadata": {},
   "outputs": [],
   "source": [
    "rtdp = ps.RTDataPlayer(data_generator, son)\n",
    "rtdp"
   ]
  },
  {
   "cell_type": "code",
   "execution_count": null,
   "id": "c2e845d2",
   "metadata": {},
   "outputs": [],
   "source": [
    "rtdp.add_listen_hook(feature_extraction_online)\n",
    "rtdp.add_close_hook(kill_feature_extraction_online)"
   ]
  },
  {
   "cell_type": "code",
   "execution_count": null,
   "id": "8aab780d",
   "metadata": {},
   "outputs": [],
   "source": [
    "rtdp.listen()"
   ]
  },
  {
   "cell_type": "code",
   "execution_count": null,
   "id": "3bce9660",
   "metadata": {},
   "outputs": [],
   "source": [
    "rtdp.close()"
   ]
  },
  {
   "cell_type": "code",
   "execution_count": null,
   "id": "3449f87b",
   "metadata": {},
   "outputs": [],
   "source": [
    "rtdp.record_start()"
   ]
  },
  {
   "cell_type": "code",
   "execution_count": null,
   "id": "b8b6f463",
   "metadata": {},
   "outputs": [],
   "source": [
    "rtdp.record_stop()"
   ]
  },
  {
   "cell_type": "code",
   "execution_count": null,
   "id": "aaeea8b5",
   "metadata": {},
   "outputs": [],
   "source": [
    "rtdp.log_start()"
   ]
  },
  {
   "cell_type": "code",
   "execution_count": null,
   "id": "f9510dd3",
   "metadata": {},
   "outputs": [],
   "source": [
    "df = rtdp.log_stop()"
   ]
  },
  {
   "cell_type": "markdown",
   "id": "e5131286",
   "metadata": {},
   "source": [
    "### NRT usage"
   ]
  },
  {
   "cell_type": "code",
   "execution_count": null,
   "id": "5dd16765",
   "metadata": {},
   "outputs": [],
   "source": [
    "dp.export(\"score.wav\")"
   ]
  }
 ],
 "metadata": {
  "kernelspec": {
   "display_name": "Python [conda env:face]",
   "language": "python",
   "name": "conda-env-face-py"
  },
  "language_info": {
   "codemirror_mode": {
    "name": "ipython",
    "version": 3
   },
   "file_extension": ".py",
   "mimetype": "text/x-python",
   "name": "python",
   "nbconvert_exporter": "python",
   "pygments_lexer": "ipython3",
   "version": "3.9.7"
  }
 },
 "nbformat": 4,
 "nbformat_minor": 5
}
