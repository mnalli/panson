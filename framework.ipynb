{
 "cells": [
  {
   "cell_type": "markdown",
   "id": "46326df8",
   "metadata": {},
   "source": [
    "# Framework tests"
   ]
  },
  {
   "cell_type": "markdown",
   "id": "22584fb4",
   "metadata": {},
   "source": [
    "## Sonification class interactive tests"
   ]
  },
  {
   "cell_type": "code",
   "execution_count": 1,
   "id": "5d4bba25",
   "metadata": {},
   "outputs": [],
   "source": [
    "import pandas as pd\n",
    "import panson as ps\n",
    "import os\n",
    "import time\n",
    "\n",
    "FILE_DIR = '../media/files'\n",
    "OUT_DIR = os.path.join(FILE_DIR, 'processed')"
   ]
  },
  {
   "cell_type": "code",
   "execution_count": 2,
   "id": "d117d653",
   "metadata": {},
   "outputs": [
    {
     "data": {
      "text/html": [
       "<div>\n",
       "<style scoped>\n",
       "    .dataframe tbody tr th:only-of-type {\n",
       "        vertical-align: middle;\n",
       "    }\n",
       "\n",
       "    .dataframe tbody tr th {\n",
       "        vertical-align: top;\n",
       "    }\n",
       "\n",
       "    .dataframe thead th {\n",
       "        text-align: right;\n",
       "    }\n",
       "</style>\n",
       "<table border=\"1\" class=\"dataframe\">\n",
       "  <thead>\n",
       "    <tr style=\"text-align: right;\">\n",
       "      <th></th>\n",
       "      <th>frame</th>\n",
       "      <th>face_id</th>\n",
       "      <th>timestamp</th>\n",
       "      <th>confidence</th>\n",
       "      <th>success</th>\n",
       "      <th>gaze_0_x</th>\n",
       "      <th>gaze_0_y</th>\n",
       "      <th>gaze_0_z</th>\n",
       "      <th>gaze_1_x</th>\n",
       "      <th>gaze_1_y</th>\n",
       "      <th>...</th>\n",
       "      <th>AU12_c</th>\n",
       "      <th>AU14_c</th>\n",
       "      <th>AU15_c</th>\n",
       "      <th>AU17_c</th>\n",
       "      <th>AU20_c</th>\n",
       "      <th>AU23_c</th>\n",
       "      <th>AU25_c</th>\n",
       "      <th>AU26_c</th>\n",
       "      <th>AU28_c</th>\n",
       "      <th>AU45_c</th>\n",
       "    </tr>\n",
       "  </thead>\n",
       "  <tbody>\n",
       "    <tr>\n",
       "      <th>0</th>\n",
       "      <td>1</td>\n",
       "      <td>0</td>\n",
       "      <td>0.000</td>\n",
       "      <td>0.98</td>\n",
       "      <td>1</td>\n",
       "      <td>0.191636</td>\n",
       "      <td>0.161091</td>\n",
       "      <td>-0.968156</td>\n",
       "      <td>-0.110604</td>\n",
       "      <td>0.145726</td>\n",
       "      <td>...</td>\n",
       "      <td>0.0</td>\n",
       "      <td>0.0</td>\n",
       "      <td>1.0</td>\n",
       "      <td>0.0</td>\n",
       "      <td>0.0</td>\n",
       "      <td>0.0</td>\n",
       "      <td>1.0</td>\n",
       "      <td>0.0</td>\n",
       "      <td>0.0</td>\n",
       "      <td>0.0</td>\n",
       "    </tr>\n",
       "    <tr>\n",
       "      <th>1</th>\n",
       "      <td>2</td>\n",
       "      <td>0</td>\n",
       "      <td>0.033</td>\n",
       "      <td>0.98</td>\n",
       "      <td>1</td>\n",
       "      <td>0.187249</td>\n",
       "      <td>0.194212</td>\n",
       "      <td>-0.962922</td>\n",
       "      <td>-0.122492</td>\n",
       "      <td>0.179005</td>\n",
       "      <td>...</td>\n",
       "      <td>0.0</td>\n",
       "      <td>0.0</td>\n",
       "      <td>1.0</td>\n",
       "      <td>0.0</td>\n",
       "      <td>0.0</td>\n",
       "      <td>0.0</td>\n",
       "      <td>1.0</td>\n",
       "      <td>0.0</td>\n",
       "      <td>0.0</td>\n",
       "      <td>0.0</td>\n",
       "    </tr>\n",
       "    <tr>\n",
       "      <th>2</th>\n",
       "      <td>3</td>\n",
       "      <td>0</td>\n",
       "      <td>0.067</td>\n",
       "      <td>0.98</td>\n",
       "      <td>1</td>\n",
       "      <td>0.178678</td>\n",
       "      <td>0.186284</td>\n",
       "      <td>-0.966112</td>\n",
       "      <td>-0.117601</td>\n",
       "      <td>0.177079</td>\n",
       "      <td>...</td>\n",
       "      <td>0.0</td>\n",
       "      <td>0.0</td>\n",
       "      <td>0.0</td>\n",
       "      <td>0.0</td>\n",
       "      <td>0.0</td>\n",
       "      <td>0.0</td>\n",
       "      <td>1.0</td>\n",
       "      <td>0.0</td>\n",
       "      <td>0.0</td>\n",
       "      <td>0.0</td>\n",
       "    </tr>\n",
       "    <tr>\n",
       "      <th>3</th>\n",
       "      <td>4</td>\n",
       "      <td>0</td>\n",
       "      <td>0.100</td>\n",
       "      <td>0.98</td>\n",
       "      <td>1</td>\n",
       "      <td>0.191069</td>\n",
       "      <td>0.163455</td>\n",
       "      <td>-0.967871</td>\n",
       "      <td>-0.118753</td>\n",
       "      <td>0.161861</td>\n",
       "      <td>...</td>\n",
       "      <td>0.0</td>\n",
       "      <td>0.0</td>\n",
       "      <td>0.0</td>\n",
       "      <td>0.0</td>\n",
       "      <td>0.0</td>\n",
       "      <td>0.0</td>\n",
       "      <td>1.0</td>\n",
       "      <td>0.0</td>\n",
       "      <td>0.0</td>\n",
       "      <td>0.0</td>\n",
       "    </tr>\n",
       "    <tr>\n",
       "      <th>4</th>\n",
       "      <td>5</td>\n",
       "      <td>0</td>\n",
       "      <td>0.133</td>\n",
       "      <td>0.98</td>\n",
       "      <td>1</td>\n",
       "      <td>0.184812</td>\n",
       "      <td>0.175222</td>\n",
       "      <td>-0.967027</td>\n",
       "      <td>-0.119328</td>\n",
       "      <td>0.167372</td>\n",
       "      <td>...</td>\n",
       "      <td>0.0</td>\n",
       "      <td>0.0</td>\n",
       "      <td>0.0</td>\n",
       "      <td>0.0</td>\n",
       "      <td>0.0</td>\n",
       "      <td>0.0</td>\n",
       "      <td>1.0</td>\n",
       "      <td>0.0</td>\n",
       "      <td>0.0</td>\n",
       "      <td>0.0</td>\n",
       "    </tr>\n",
       "  </tbody>\n",
       "</table>\n",
       "<p>5 rows × 714 columns</p>\n",
       "</div>"
      ],
      "text/plain": [
       "   frame  face_id  timestamp  confidence  success  gaze_0_x  gaze_0_y  \\\n",
       "0      1        0      0.000        0.98        1  0.191636  0.161091   \n",
       "1      2        0      0.033        0.98        1  0.187249  0.194212   \n",
       "2      3        0      0.067        0.98        1  0.178678  0.186284   \n",
       "3      4        0      0.100        0.98        1  0.191069  0.163455   \n",
       "4      5        0      0.133        0.98        1  0.184812  0.175222   \n",
       "\n",
       "   gaze_0_z  gaze_1_x  gaze_1_y  ...  AU12_c  AU14_c  AU15_c  AU17_c  AU20_c  \\\n",
       "0 -0.968156 -0.110604  0.145726  ...     0.0     0.0     1.0     0.0     0.0   \n",
       "1 -0.962922 -0.122492  0.179005  ...     0.0     0.0     1.0     0.0     0.0   \n",
       "2 -0.966112 -0.117601  0.177079  ...     0.0     0.0     0.0     0.0     0.0   \n",
       "3 -0.967871 -0.118753  0.161861  ...     0.0     0.0     0.0     0.0     0.0   \n",
       "4 -0.967027 -0.119328  0.167372  ...     0.0     0.0     0.0     0.0     0.0   \n",
       "\n",
       "   AU23_c  AU25_c  AU26_c  AU28_c  AU45_c  \n",
       "0     0.0     1.0     0.0     0.0     0.0  \n",
       "1     0.0     1.0     0.0     0.0     0.0  \n",
       "2     0.0     1.0     0.0     0.0     0.0  \n",
       "3     0.0     1.0     0.0     0.0     0.0  \n",
       "4     0.0     1.0     0.0     0.0     0.0  \n",
       "\n",
       "[5 rows x 714 columns]"
      ]
     },
     "execution_count": 2,
     "metadata": {},
     "output_type": "execute_result"
    }
   ],
   "source": [
    "df = pd.read_csv(os.path.join(OUT_DIR, \"phone.csv\"), sep=r',\\s*', engine='python')\n",
    "df.head()"
   ]
  },
  {
   "cell_type": "code",
   "execution_count": 3,
   "id": "5395007b",
   "metadata": {},
   "outputs": [],
   "source": [
    "import sc3nb as scn"
   ]
  },
  {
   "cell_type": "code",
   "execution_count": 6,
   "id": "5f9ec304",
   "metadata": {},
   "outputs": [
    {
     "data": {
      "application/javascript": [
       "if (typeof Jupyter !== 'undefined') {\n",
       "                        Jupyter.keyboard_manager.command_shortcuts.add_shortcut(\n",
       "                        'Ctrl-.', {\n",
       "                        help : 'Free all nodes on SC server',\n",
       "                        help_index : 'zz',\n",
       "                        handler : function (event) {\n",
       "                            IPython.notebook.kernel.execute(\n",
       "                                \"import sc3nb; sc3nb.SC.get_default().server.free_all(root=True)\"\n",
       "                            )\n",
       "                            return true;}\n",
       "                        });\n",
       "                    }"
      ],
      "text/plain": [
       "<IPython.core.display.Javascript object>"
      ]
     },
     "metadata": {},
     "output_type": "display_data"
    },
    {
     "name": "stdout",
     "output_type": "stream",
     "text": [
      "Booting SuperCollider Server... [scsynth | start reading ]\n",
      "[scsynth]  Found 0 LADSPA plugins\n",
      "[scsynth]  JackDriver: client name is 'SuperCollider'\n",
      "[scsynth]  SC_AudioDriver: sample rate = 48000.000000, driver's block size = 1024\n",
      "[scsynth]  SuperCollider 3 server ready.\n",
      "Done.\n",
      "[scsynth]  JackDriver: max output latency 42.7 ms\n"
     ]
    }
   ],
   "source": [
    "# start scsynth\n",
    "sc = scn.startup(start_sclang=False)\n",
    "# connect scsynth to the system playback\n",
    "!jack_connect \"SuperCollider:out_1\" \"system:playback_1\"\n",
    "!jack_connect \"SuperCollider:out_2\" \"system:playback_2\""
   ]
  },
  {
   "cell_type": "code",
   "execution_count": 5,
   "id": "6aa6bc81",
   "metadata": {},
   "outputs": [
    {
     "name": "stdout",
     "output_type": "stream",
     "text": [
      "Quitting SCServer... [scsynth | reached EOF ]\n",
      "Done.\n"
     ]
    }
   ],
   "source": [
    "sc.exit()"
   ]
  },
  {
   "cell_type": "code",
   "execution_count": 14,
   "id": "784d57c3",
   "metadata": {},
   "outputs": [],
   "source": [
    "au4_node_id = 1001\n",
    "\n",
    "class AU04ContinuousSonification(ps.Sonification):\n",
    "    \n",
    "    def initialize(self):\n",
    "        return []\n",
    "    \n",
    "    def start(self):\n",
    "        return [\n",
    "            scn.OSCMessage(\"/s_new\", [\"s2\", au4_node_id, 0, 0, \"amp\", 0])\n",
    "        ]\n",
    "    \n",
    "    def stop(self):\n",
    "        return [\n",
    "            scn.OSCMessage(\"/g_freeAll\", [0])\n",
    "        ]\n",
    "    \n",
    "    def process(self, row):\n",
    "        msgs = []\n",
    "        \n",
    "        # only \"max\" should be enough (to clip the top part to 0.3)\n",
    "        amp = scn.linlin(row[\"AU04_r\"], 0, 1, 0, 0.3, \"minmax\")\n",
    "        # map the intensity of the AU in one octave range\n",
    "        freq = scn.midicps(scn.linlin(row[\"AU04_r\"], 0, 5, 69, 81))\n",
    "        \n",
    "        msgs.append(scn.OSCMessage(\"/n_set\", [au4_node_id, \"amp\", amp, \"freq\", freq]))\n",
    "        \n",
    "        return msgs"
   ]
  },
  {
   "cell_type": "code",
   "execution_count": 15,
   "id": "c70c1ac5",
   "metadata": {},
   "outputs": [],
   "source": [
    "son = AU04ContinuousSonification()"
   ]
  },
  {
   "cell_type": "markdown",
   "id": "5d127812",
   "metadata": {},
   "source": [
    "### Realtime usage"
   ]
  },
  {
   "cell_type": "markdown",
   "id": "49059d9c",
   "metadata": {},
   "source": [
    "#### Offline"
   ]
  },
  {
   "cell_type": "code",
   "execution_count": 16,
   "id": "ea4b8a20",
   "metadata": {},
   "outputs": [],
   "source": [
    "# send synthdefs\n",
    "for msg in son.initialize():\n",
    "    sc.server.send(msg)"
   ]
  },
  {
   "cell_type": "markdown",
   "id": "65363b57",
   "metadata": {},
   "source": [
    "**sc.server.bundler vs Bundler**\n",
    "* sc.server.bundler: adds server.latency to the timestamp (also the absolute one)\n",
    "* Bundler: does not add anything to the timestamp"
   ]
  },
  {
   "cell_type": "code",
   "execution_count": 10,
   "id": "d701d126",
   "metadata": {},
   "outputs": [],
   "source": [
    "# by default is 0\n",
    "sc.server.latency = 0.2"
   ]
  },
  {
   "cell_type": "code",
   "execution_count": 17,
   "id": "2893988b",
   "metadata": {
    "ExecuteTime": {
     "end_time": "2021-11-26T01:21:27.712877Z",
     "start_time": "2021-11-26T01:21:16.510942Z"
    }
   },
   "outputs": [
    {
     "name": "stderr",
     "output_type": "stream",
     "text": [
      "Error at SCServer('127.0.0.1', 57110) pid=16700 from scsynth: ('/fail', '/n_set', 'Node 1001 not found')\n",
      "Error at SCServer('127.0.0.1', 57110) pid=16700 from scsynth: ('/fail', '/n_set', 'Node 1001 not found')\n",
      "Error at SCServer('127.0.0.1', 57110) pid=16700 from scsynth: ('/fail', '/n_set', 'Node 1001 not found')\n",
      "Error at SCServer('127.0.0.1', 57110) pid=16700 from scsynth: ('/fail', '/n_set', 'Node 1001 not found')\n",
      "Error at SCServer('127.0.0.1', 57110) pid=16700 from scsynth: ('/fail', '/n_set', 'Node 1001 not found')\n"
     ]
    },
    {
     "name": "stdout",
     "output_type": "stream",
     "text": [
      "[scsynth]  FAILURE IN SERVER /n_set Node 1001 not found\n",
      "[scsynth]  FAILURE IN SERVER /n_set Node 1001 not found\n",
      "[scsynth]  FAILURE IN SERVER /n_set Node 1001 not found\n",
      "[scsynth]  FAILURE IN SERVER /n_set Node 1001 not found\n",
      "[scsynth]  FAILURE IN SERVER /n_set Node 1001 not found\n",
      "[scsynth | reached EOF ]\n"
     ]
    }
   ],
   "source": [
    "t0 = time.time()\n",
    "\n",
    "# instantiate synths asap\n",
    "for msg in son.start():\n",
    "    sc.server.send(msg)\n",
    "\n",
    "# wait one control cycle to be sure that synths are instantiated\n",
    "# time.sleep(1 / 44100 * 64)\n",
    "\n",
    "\n",
    "# iterate over dataframe rows\n",
    "for _, row in df.iterrows():\n",
    "    \n",
    "    msgs = son.process(row)\n",
    "    \n",
    "    # bundle and send\n",
    "    with sc.server.bundler(t0 + row.timestamp) as bundler:\n",
    "        # the bundle will play at t0 + timestamp\n",
    "        \n",
    "        # bundle\n",
    "        for msg in msgs:\n",
    "            bundler.add(msg)\n",
    "    \n",
    "    # sleep for the missing time\n",
    "    waiting_time = t0 + row.timestamp - time.time()\n",
    "    \n",
    "    if waiting_time > 0:\n",
    "        time.sleep(waiting_time)\n",
    "\n",
    "        \n",
    "# instantiate synths asap\n",
    "for msg in son.stop():\n",
    "    sc.server.send(msg)"
   ]
  },
  {
   "cell_type": "code",
   "execution_count": 12,
   "id": "6d8d5e1a",
   "metadata": {
    "ExecuteTime": {
     "end_time": "2021-11-26T01:03:14.039783Z",
     "start_time": "2021-11-26T01:03:13.868257Z"
    }
   },
   "outputs": [],
   "source": [
    "sc.server.free_all()"
   ]
  },
  {
   "cell_type": "code",
   "execution_count": 13,
   "id": "1b3927b5",
   "metadata": {},
   "outputs": [
    {
     "data": {
      "text/plain": [
       "{1640803865.0667663: [<OSCMessage(\"/g_freeAll\", [0])>,\n",
       "  <OSCMessage(\"/g_new\", [1, 0, 0])>,\n",
       "  <OSCMessage(\"/g_new\", [67108865, 0, 0])>,\n",
       "  <OSCMessage(\"/g_new\", [134217729, 0, 0])>,\n",
       "  <OSCMessage(\"/g_new\", [201326593, 0, 0])>,\n",
       "  <OSCMessage(\"/g_new\", [268435457, 0, 0])>,\n",
       "  <OSCMessage(\"/g_new\", [335544321, 0, 0])>,\n",
       "  <OSCMessage(\"/g_new\", [402653185, 0, 0])>,\n",
       "  <OSCMessage(\"/g_new\", [469762049, 0, 0])>]}"
      ]
     },
     "execution_count": 13,
     "metadata": {},
     "output_type": "execute_result"
    },
    {
     "name": "stdout",
     "output_type": "stream",
     "text": [
      "[scsynth]  late 17.254654408\n",
      "[scsynth]  late 17.254654408\n",
      "[scsynth]  late 17.254654408\n",
      "[scsynth]  late 17.254654408\n",
      "[scsynth]  late 17.254654408\n",
      "[scsynth]  late 17.254654408\n",
      "[scsynth]  late 17.254654408\n",
      "[scsynth]  late 17.254654408\n",
      "[scsynth]  late 17.254654408\n"
     ]
    }
   ],
   "source": [
    "with sc.server.bundler(t0 + row.timestamp) as bundler:\n",
    "    sc.server.free_all()\n",
    "    \n",
    "bundler.messages()"
   ]
  },
  {
   "cell_type": "markdown",
   "id": "57689cd8",
   "metadata": {},
   "source": [
    "## Thread behaviour"
   ]
  },
  {
   "cell_type": "markdown",
   "id": "e515201b",
   "metadata": {},
   "source": [
    "The threads outputs results in the lastly executed cell.\n",
    "\n",
    "The cell return when the main thread finishes."
   ]
  },
  {
   "cell_type": "code",
   "execution_count": 11,
   "id": "7473f239",
   "metadata": {},
   "outputs": [
    {
     "name": "stdout",
     "output_type": "stream",
     "text": [
      "worker Starting\n",
      "Thread-16 Starting\n",
      "my_service Starting\n"
     ]
    }
   ],
   "source": [
    "import threading\n",
    "import time\n",
    "\n",
    "def worker():\n",
    "    print(threading.current_thread().getName(), 'Starting')\n",
    "    time.sleep(10)\n",
    "    print(threading.current_thread().getName(), 'Exiting')\n",
    "\n",
    "\n",
    "def my_service():\n",
    "    print(threading.current_thread().getName(), 'Starting')\n",
    "    time.sleep(5)\n",
    "    print(threading.current_thread().getName(), 'Exiting')\n",
    "\n",
    "\n",
    "t = threading.Thread(name='my_service', target=my_service)\n",
    "w = threading.Thread(name='worker', target=worker)\n",
    "w2 = threading.Thread(target=worker)  # use default name\n",
    "\n",
    "w.start()\n",
    "w2.start()\n",
    "t.start()\n",
    "\n",
    "# # wait until threads terminate\n",
    "# w.join()\n",
    "# w2.join()\n",
    "# t.join()"
   ]
  },
  {
   "cell_type": "code",
   "execution_count": 12,
   "id": "af37a040",
   "metadata": {},
   "outputs": [
    {
     "name": "stdout",
     "output_type": "stream",
     "text": [
      "test\n",
      "my_service Exiting\n",
      "Thread-16 Exiting\n",
      "worker Exiting\n"
     ]
    }
   ],
   "source": [
    "print('test')"
   ]
  },
  {
   "cell_type": "markdown",
   "id": "7ac5f3bf",
   "metadata": {},
   "source": [
    "## Misc"
   ]
  },
  {
   "cell_type": "markdown",
   "id": "9572b71e",
   "metadata": {},
   "source": [
    "Save frame information as csv as expected by the videoviewer"
   ]
  },
  {
   "cell_type": "code",
   "execution_count": null,
   "id": "b35aa09b",
   "metadata": {},
   "outputs": [],
   "source": [
    "timestamps = df.timestamp.to_numpy()\n",
    "np.savetxt('phone.avi.csv', timestamps, delimiter=',')"
   ]
  },
  {
   "cell_type": "markdown",
   "id": "5bb9baf3",
   "metadata": {},
   "source": [
    "### Video"
   ]
  },
  {
   "cell_type": "markdown",
   "id": "2a38c085",
   "metadata": {},
   "source": [
    "#### ipywidgets"
   ]
  },
  {
   "cell_type": "code",
   "execution_count": 15,
   "id": "cf69bca0",
   "metadata": {},
   "outputs": [
    {
     "data": {
      "text/plain": [
       "True"
      ]
     },
     "execution_count": 15,
     "metadata": {},
     "output_type": "execute_result"
    }
   ],
   "source": [
    "from ipywidgets import Video\n",
    "video = Video.from_file('NRT_videos/phone-processed-son.mp4')\n",
    "video"
   ]
  },
  {
   "cell_type": "code",
   "execution_count": 11,
   "id": "a151ac32",
   "metadata": {},
   "outputs": [],
   "source": [
    "from ipywidgets import Image\n",
    "image = Image()"
   ]
  },
  {
   "cell_type": "markdown",
   "id": "908127a3",
   "metadata": {},
   "source": [
    "#### PyQt"
   ]
  },
  {
   "cell_type": "markdown",
   "id": "96e69776",
   "metadata": {},
   "source": [
    "The following cell enable PyQt5 event loop integration. This is done by opening a QApplication for your notebook. This means that we have to avoid creating QApplication objects in our code (and consequenctly to start the event loop).\n",
    "* https://stackoverflow.com/questions/30606462/closing-a-pyqt-widget-in-ipython-notebook-without-using-sys-exit\n",
    "\n",
    "We can run the following magic as many times as we want, but we have to avoid creating QApplications in our code."
   ]
  },
  {
   "cell_type": "code",
   "execution_count": 2,
   "id": "c82300ae",
   "metadata": {},
   "outputs": [],
   "source": [
    "%gui qt5\n",
    "\n",
    "from PyQt5 import QtWidgets, QtCore\n",
    "import pyqtgraph as pg"
   ]
  },
  {
   "cell_type": "code",
   "execution_count": 11,
   "id": "39906d44",
   "metadata": {},
   "outputs": [
    {
     "data": {
      "text/plain": [
       "<PyQt5.QtWidgets.QApplication at 0x7f9beddffb80>"
      ]
     },
     "execution_count": 11,
     "metadata": {},
     "output_type": "execute_result"
    }
   ],
   "source": [
    "QtCore.QCoreApplication.instance()"
   ]
  },
  {
   "cell_type": "markdown",
   "id": "4022729f",
   "metadata": {},
   "source": [
    "The following disables IPython GUI event loop integration."
   ]
  },
  {
   "cell_type": "code",
   "execution_count": 24,
   "id": "33d028f4",
   "metadata": {},
   "outputs": [],
   "source": [
    "# %gui"
   ]
  },
  {
   "cell_type": "code",
   "execution_count": 6,
   "id": "b9ff14a2",
   "metadata": {},
   "outputs": [],
   "source": [
    "# # GUI initialization\n",
    "# window = QtWidgets.QWidget()\n",
    "\n",
    "# imggv = pg.GraphicsView()\n",
    "# viewbox = pg.ViewBox()\n",
    "# viewbox.setAspectLocked()\n",
    "# viewbox.invertY(True)\n",
    "\n",
    "# imggv.setCentralItem(viewbox)\n",
    "\n",
    "# img = pg.ImageItem(np.zeros((100, 100, 3)))  # Todo: 3 -> channel variable\n",
    "# viewbox.addItem(img)\n",
    "\n",
    "# layout = QtWidgets.QGridLayout()\n",
    "# layout.addWidget(imggv, 0, 0, 4, 4)\n",
    "# window.setLayout(layout)\n",
    "\n",
    "# # window always on top\n",
    "# window.setWindowFlag(QtCore.Qt.WindowStaysOnTopHint)\n",
    "\n",
    "# window.show()"
   ]
  },
  {
   "cell_type": "code",
   "execution_count": 12,
   "id": "47208603",
   "metadata": {},
   "outputs": [],
   "source": [
    "from videoviewer import NBVideoViewer\n",
    "\n",
    "vv = NBVideoViewer()\n",
    "vv.start()"
   ]
  },
  {
   "cell_type": "code",
   "execution_count": 13,
   "id": "a5d13548",
   "metadata": {},
   "outputs": [
    {
     "data": {
      "text/plain": [
       "(332, 1280, 720, 3)"
      ]
     },
     "execution_count": 13,
     "metadata": {},
     "output_type": "execute_result"
    }
   ],
   "source": [
    "import skvideo\n",
    "import skvideo.io\n",
    "\n",
    "frames = skvideo.io.vread('files/processed/phone.avi')\n",
    "frames.shape"
   ]
  },
  {
   "cell_type": "code",
   "execution_count": 8,
   "id": "0626107f",
   "metadata": {},
   "outputs": [],
   "source": [
    "# frame = frames[0, ::5, ::5, [0,1,2]].T\n",
    "# img.setImage(frame)"
   ]
  },
  {
   "cell_type": "code",
   "execution_count": 14,
   "id": "d2ae37fc",
   "metadata": {},
   "outputs": [],
   "source": [
    "import ipywidgets as widgets"
   ]
  },
  {
   "cell_type": "code",
   "execution_count": 15,
   "id": "70396a71",
   "metadata": {},
   "outputs": [],
   "source": [
    "au4_node_id = 1234\n",
    "# instantiate synths\n",
    "sc.server.msg(\"/s_new\", [\"s2\", au4_node_id, 0, 0, \"amp\", 0])"
   ]
  },
  {
   "cell_type": "code",
   "execution_count": null,
   "id": "536c89ae",
   "metadata": {},
   "outputs": [],
   "source": [
    "sc.server.free_all()"
   ]
  },
  {
   "cell_type": "code",
   "execution_count": 16,
   "id": "31f73c3d",
   "metadata": {},
   "outputs": [
    {
     "data": {
      "application/vnd.jupyter.widget-view+json": {
       "model_id": "4862890be4794a2a9e7930eee6545dee",
       "version_major": 2,
       "version_minor": 0
      },
      "text/plain": [
       "HBox(children=(Play(value=0, interval=33, max=332), IntSlider(value=0, max=332)))"
      ]
     },
     "metadata": {},
     "output_type": "display_data"
    }
   ],
   "source": [
    "max_ = 332\n",
    "\n",
    "# out = widgets.Output()\n",
    "\n",
    "def on_change(change):\n",
    "    # with out:\n",
    "    #    print(change.new)\n",
    "    \n",
    "    idx = change.new\n",
    "    \n",
    "    row = df.iloc[idx]\n",
    "\n",
    "    # only \"max\" should be enough (to clip the top part to 0.3)\n",
    "    amp = scn.linlin(row[\"AU04_r\"], 0, 1, 0, 0.3, \"minmax\")   # TODO: exponential mapping\n",
    "    # map the intensity of the AU in one octave range\n",
    "    freq = scn.midicps(scn.linlin(row[\"AU04_r\"], 0, 5, 69, 81))\n",
    "\n",
    "    with sc.server.bundler(0.1) as bundler:\n",
    "        sc.server.msg(\"/n_set\", [au4_node_id, \"amp\", amp, \"freq\", freq], bundle=True)\n",
    "\n",
    "    frame = frames[idx, ::5, ::5, [0,1,2]]\n",
    "    vv.update(frame)\n",
    "    \n",
    "def on_play_stop(change):\n",
    "    \n",
    "    # when the video is paused\n",
    "    if change.now == False:\n",
    "        # silence all the synths\n",
    "        with sc.server.bundler() as bundler:\n",
    "            sc.server.msg(\"/n_set\", [au4_node_id, \"amp\", 0], bundle=True)\n",
    "    \n",
    "        \n",
    "slider = widgets.IntSlider(max=max_)\n",
    "\n",
    "# can't play data with unregolar sampling rate\n",
    "play = widgets.Play(\n",
    "    max=max_,\n",
    "    step=1,\n",
    "    interval=33,\n",
    "    disabled=False\n",
    ")\n",
    "\n",
    "play.observe(on_change, names='value')\n",
    "play.observe(on_play_stop, names='_playing')\n",
    "\n",
    "widgets.jslink((play, 'value'), (slider, 'value'))\n",
    "widgets.HBox([play, slider])"
   ]
  },
  {
   "cell_type": "code",
   "execution_count": null,
   "id": "31b1f3d9",
   "metadata": {},
   "outputs": [],
   "source": [
    "def sonify_row(df_row):\n",
    "    pass"
   ]
  },
  {
   "cell_type": "code",
   "execution_count": 20,
   "id": "ccc675c8",
   "metadata": {},
   "outputs": [],
   "source": [
    "def sonification_callback(event):\n",
    "    frame_idx = event.cls.value\n",
    "    \n",
    "#     sonify_row(df.iloc[frame_idx])\n",
    "    img.setImage(frames[frame_idx, ::5, ::5, [0,1,2]].T)"
   ]
  }
 ],
 "metadata": {
  "kernelspec": {
   "display_name": "Python [conda env:face]",
   "language": "python",
   "name": "conda-env-face-py"
  },
  "language_info": {
   "codemirror_mode": {
    "name": "ipython",
    "version": 3
   },
   "file_extension": ".py",
   "mimetype": "text/x-python",
   "name": "python",
   "nbconvert_exporter": "python",
   "pygments_lexer": "ipython3",
   "version": "3.9.7"
  }
 },
 "nbformat": 4,
 "nbformat_minor": 5
}
