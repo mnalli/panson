{
 "cells": [
  {
   "cell_type": "markdown",
   "id": "380bf1ff",
   "metadata": {},
   "source": [
    "# Framework component tests"
   ]
  },
  {
   "cell_type": "code",
   "execution_count": null,
   "id": "39e61022",
   "metadata": {
    "ExecuteTime": {
     "end_time": "2021-11-25T18:28:00.039678Z",
     "start_time": "2021-11-25T18:27:51.515380Z"
    }
   },
   "outputs": [],
   "source": [
    "import numpy as np\n",
    "import pandas as pd\n",
    "\n",
    "import subprocess\n",
    "import time\n",
    "import os\n",
    "\n",
    "import panson as ps\n",
    "from panson import bundle\n",
    "\n",
    "from math import pi, exp, log2"
   ]
  },
  {
   "cell_type": "code",
   "execution_count": null,
   "id": "9d1438dd",
   "metadata": {},
   "outputs": [],
   "source": [
    "# import logging\n",
    "# logging.basicConfig(level=logging.DEBUG)"
   ]
  },
  {
   "cell_type": "code",
   "execution_count": null,
   "id": "c61f362c",
   "metadata": {},
   "outputs": [],
   "source": [
    "!xhost +"
   ]
  },
  {
   "cell_type": "code",
   "execution_count": null,
   "id": "6742cbcf",
   "metadata": {
    "ExecuteTime": {
     "end_time": "2021-11-16T17:01:41.759644Z",
     "start_time": "2021-11-16T17:00:08.512375Z"
    }
   },
   "outputs": [],
   "source": [
    "# name given to the container\n",
    "CONTAINER_NAME = 'openface'\n",
    "\n",
    "# base directory of the container\n",
    "CONTAINER_BASE_DIR = '/home/openface-build'\n",
    "# directory with executalbles in the container\n",
    "CONTAINER_BIN_DIR = os.path.join(CONTAINER_BASE_DIR, 'build/bin')\n",
    "\n",
    "FILE_DIR = '../media/files'\n",
    "OUT_DIR = os.path.join(FILE_DIR, 'processed')\n",
    "\n",
    "CONTAINER_FILE_DIR = os.path.join(CONTAINER_BASE_DIR, 'files')\n",
    "CONTAINER_OUT_DIR = os.path.join(CONTAINER_FILE_DIR, 'processed')\n",
    "\n",
    "CONTAINER_EXECUTABLE = os.path.join(CONTAINER_BIN_DIR, 'FeatureExtraction')\n",
    "\n",
    "\n",
    "def feature_extraction_offline(video_name):\n",
    "    \n",
    "    video_path = os.path.join(FILE_DIR, video_name)\n",
    "    \n",
    "    # the file must be in FILE_DIR\n",
    "    if not os.path.isfile(video_path):\n",
    "        raise FileNotFoundError(video_path)\n",
    "    \n",
    "    container_video_path = os.path.join(CONTAINER_FILE_DIR, video_name)\n",
    "    \n",
    "    command = [\n",
    "        'docker', 'exec', CONTAINER_NAME, CONTAINER_EXECUTABLE,\n",
    "        '-f', container_video_path,\n",
    "        '-out_dir', CONTAINER_OUT_DIR,\n",
    "        # features extracted\n",
    "        '-pose', '-gaze', '-aus',\n",
    "        # output tracked video\n",
    "        '-tracked'\n",
    "    ]\n",
    "    \n",
    "    # capture and combine stdout and stderr into one stream and set as text stream\n",
    "    proc = subprocess.Popen(command,stdout=subprocess.PIPE, stderr=subprocess.STDOUT, universal_newlines=True)\n",
    "        \n",
    "    # poll process and show its output\n",
    "    while True:\n",
    "        output = proc.stdout.readline()\n",
    "        \n",
    "        if output:\n",
    "            print(output.strip())\n",
    "            \n",
    "        if proc.poll() is not None:\n",
    "            break\n",
    "    \n",
    "    return proc\n",
    "\n",
    "def feature_extraction_online(pipe='files/pipe'):\n",
    "    \n",
    "    command = [\n",
    "        'docker', 'exec', CONTAINER_NAME, CONTAINER_EXECUTABLE,\n",
    "        '-device', '0', # use default device\n",
    "        '-pose', '-gaze', '-aus',\n",
    "        # '-tracked'\n",
    "        '-of', pipe\n",
    "    ]\n",
    "    \n",
    "    # capture and combine stdout and stderr into one stream and set as text stream\n",
    "    proc = subprocess.Popen(command, stdout=subprocess.PIPE, stderr=subprocess.STDOUT, universal_newlines=True)    \n",
    "\n",
    "    print('Starting real-time analysis...')\n",
    "    print('Open the pipe from the read side to start the feature stream')\n",
    "    \n",
    "    return proc\n",
    "\n",
    "def kill_feature_extraction_online():\n",
    "    # !docker exec -it openface pkill FeatureExt\n",
    "    command = ['docker', 'exec', CONTAINER_NAME, 'pkill', 'FeatureExt']\n",
    "    subprocess.run(command)\n",
    "\n",
    "def read_openface_csv(csv_path):\n",
    "    return pd.read_csv(csv_path, sep=r',\\s*', engine='python')"
   ]
  },
  {
   "cell_type": "code",
   "execution_count": null,
   "id": "e5e02d31",
   "metadata": {},
   "outputs": [],
   "source": [
    "def ffmpeg_convert(in_file, out_file):\n",
    "    \n",
    "    # this was the original command that appeared in the notebook\n",
    "    # ffmpeg -y -i \"files/processed/phone.avi\" -c:v libx264 -preset slow -crf 22 -pix_fmt yuv420p -c:a libvo_aacenc -b:a 128k \"files/phone-processed.mp4\"\n",
    "    command = [\n",
    "        'ffmpeg', '-y',\n",
    "        '-i', in_file,\n",
    "        '-c:v', 'libx264',\n",
    "        '-crf', '22',\n",
    "        '-pix_fmt', 'yuv420p',\n",
    "        '-c:a', 'libvo_aacenc',\n",
    "        '-b:a', '128k',\n",
    "        out_file\n",
    "    ]\n",
    "    \n",
    "    proc = subprocess.run(command, capture_output=True)\n",
    "    \n",
    "    return proc\n",
    "\n",
    "def ffmpeg_merge(video_file, audio_file, out_file):\n",
    "    \n",
    "    # ffmpeg -i files/phone-processed.mp4 -i score.wav  -c:v copy phone-processed-son.mp4 -y\n",
    "                \n",
    "    command = [\n",
    "        'ffmpeg', '-y',\n",
    "        '-i', video_file,\n",
    "        '-i', audio_file,\n",
    "        '-map', '0:v',\n",
    "        '-map', '1:a',\n",
    "        '-c:v', 'copy',\n",
    "        out_file\n",
    "    ]\n",
    "    \n",
    "    proc = subprocess.run(command, capture_output=True)\n",
    "    \n",
    "    return proc"
   ]
  },
  {
   "cell_type": "markdown",
   "id": "970e803b",
   "metadata": {},
   "source": [
    "## Setup"
   ]
  },
  {
   "cell_type": "markdown",
   "id": "ed2b9f23",
   "metadata": {},
   "source": [
    "### Supercollider"
   ]
  },
  {
   "cell_type": "code",
   "execution_count": null,
   "id": "958fcec7",
   "metadata": {
    "ExecuteTime": {
     "end_time": "2021-11-26T00:56:54.169321Z",
     "start_time": "2021-11-26T00:56:54.160802Z"
    }
   },
   "outputs": [],
   "source": [
    "import sc3nb as scn"
   ]
  },
  {
   "cell_type": "code",
   "execution_count": null,
   "id": "939e8ce4",
   "metadata": {
    "ExecuteTime": {
     "end_time": "2021-11-26T00:57:34.103220Z",
     "start_time": "2021-11-26T00:57:30.546086Z"
    }
   },
   "outputs": [],
   "source": [
    "# start scsynth\n",
    "sc = scn.startup()\n",
    "# connect scsynth to the system playback\n",
    "!jack_connect \"SuperCollider:out_1\" \"system:playback_1\"\n",
    "!jack_connect \"SuperCollider:out_2\" \"system:playback_2\""
   ]
  },
  {
   "cell_type": "markdown",
   "id": "d16d8053",
   "metadata": {},
   "source": [
    "If this does not work, open QJackCtl and link the nodes in the graph manually."
   ]
  },
  {
   "cell_type": "code",
   "execution_count": null,
   "id": "c7d52a89",
   "metadata": {
    "ExecuteTime": {
     "end_time": "2021-11-26T00:57:06.929914Z",
     "start_time": "2021-11-26T00:57:06.499795Z"
    }
   },
   "outputs": [],
   "source": [
    "sc.exit()"
   ]
  },
  {
   "cell_type": "code",
   "execution_count": null,
   "id": "b373d782",
   "metadata": {
    "ExecuteTime": {
     "end_time": "2021-11-26T00:57:56.377482Z",
     "start_time": "2021-11-26T00:57:56.355915Z"
    }
   },
   "outputs": [],
   "source": [
    "# test sound output\n",
    "sc.server.blip()"
   ]
  },
  {
   "cell_type": "code",
   "execution_count": null,
   "id": "c5a3623e",
   "metadata": {},
   "outputs": [],
   "source": [
    "sc.server.latency = 0.1"
   ]
  },
  {
   "cell_type": "markdown",
   "id": "4996341a",
   "metadata": {},
   "source": [
    "Example data"
   ]
  },
  {
   "cell_type": "code",
   "execution_count": null,
   "id": "f1be8744",
   "metadata": {},
   "outputs": [],
   "source": [
    "df = pd.read_csv(os.path.join(OUT_DIR, \"phone.csv\"), sep=r',\\s*', engine='python')\n",
    "df.head()"
   ]
  },
  {
   "cell_type": "markdown",
   "id": "05c16e0b",
   "metadata": {},
   "source": [
    "### OpenFace Stream"
   ]
  },
  {
   "cell_type": "code",
   "execution_count": null,
   "id": "39086593",
   "metadata": {},
   "outputs": [],
   "source": [
    "from panson import streams\n",
    "\n",
    "FIFO_PATH = os.path.join(FILE_DIR, 'pipe.csv')\n",
    "\n",
    "openface_stream = streams.CsvFifo('openface', args=(FIFO_PATH,))\\\n",
    "        .add_open_hook(feature_extraction_online)\\\n",
    "        .add_close_hook(kill_feature_extraction_online)\\\n",
    "        .test()"
   ]
  },
  {
   "cell_type": "code",
   "execution_count": null,
   "id": "bdc4c8d3",
   "metadata": {},
   "outputs": [],
   "source": [
    "openface_stream.sample_size, openface_stream.dtype, openface_stream.fps"
   ]
  },
  {
   "cell_type": "markdown",
   "id": "45c84cf9",
   "metadata": {},
   "source": [
    "## Sonifications"
   ]
  },
  {
   "cell_type": "code",
   "execution_count": null,
   "id": "d333732a",
   "metadata": {},
   "outputs": [],
   "source": [
    "# a (implicit ID allocation)\n",
    "class AU04ContinuousSonification(ps.Sonification):\n",
    "    \n",
    "    # parameters of the sonification\n",
    "    amp = ps.FloatSliderParameter(0, 1, 0.01)\n",
    "        \n",
    "    def init_parameters(self):\n",
    "        self.amp = 1\n",
    "    \n",
    "    @bundle\n",
    "    def init_server(self):\n",
    "        scn.SynthDef.load(\"/home/michele/Desktop/Thesis/tools/sc3nb/src/sc3nb/resources/synthdefs/s2.scsyndef\")\n",
    "\n",
    "    @bundle\n",
    "    def start(self):\n",
    "        # lag time is decided based on the frame rate\n",
    "        self.synth = scn.Synth(\"s2\", {\"amp\": 0, \"lg\": 0.03})\n",
    "\n",
    "    @bundle\n",
    "    def _process(self, row):  \n",
    "        self.synth.set(\n",
    "            # only \"max\" should be enough (to clip the top part to 0.3)\n",
    "            \"amp\", self.amp * scn.linlin(row[\"AU04_r\"], 0, 1, 0, 0.3, \"minmax\"),\n",
    "            # map the intensity of the AU in one octave range\n",
    "            \"freq\", scn.midicps(scn.linlin(row[\"AU04_r\"], 0, 5, 69, 81))\n",
    "        )"
   ]
  },
  {
   "cell_type": "code",
   "execution_count": null,
   "id": "2920c675",
   "metadata": {},
   "outputs": [],
   "source": [
    "class DropBlink(ps.Sonification):\n",
    "    \n",
    "    # hysteresis boundaries\n",
    "    bounds = ps.FloatRangeSliderParameter(0, 5, 0.1)\n",
    "    \n",
    "    # drop definition\n",
    "    drop_def = scn.SynthDef(\n",
    "        \"drop\",\n",
    "        r\"\"\"{ | freq=600, dp=1200, amp=0.5, dur=0.1, pan=0 |\n",
    "            var sig, env, fch;\n",
    "            fch = XLine.kr(freq, freq+dp, dur);\n",
    "            sig = SinOsc.ar(fch);\n",
    "            env = EnvGen.kr(Env.perc(0.001, dur, curve: -4), 1.0, doneAction: 2);\n",
    "            Out.ar(0, Pan2.ar(sig, pan, env*amp))\n",
    "        }\"\"\"\n",
    "    )\n",
    "    \n",
    "    def init_parameters(self):\n",
    "        self.bounds = [1, 1.6]        \n",
    "    \n",
    "    @bundle\n",
    "    def init_server(self):\n",
    "        self.drop_def.add()\n",
    "\n",
    "    @bundle\n",
    "    def start(self):\n",
    "        self.blinking = False\n",
    "    \n",
    "    @bundle\n",
    "    def stop(self):\n",
    "        # drops die out alone\n",
    "        pass\n",
    "    \n",
    "    @bundle\n",
    "    def _process(self, row):\n",
    "        intensity = row[\"AU45_r\"]\n",
    "        \n",
    "        if self.blinking:\n",
    "            if intensity < self.bounds[0]:\n",
    "                self.blinking = False\n",
    "        elif intensity > self.bounds[1]:\n",
    "            self.blinking = True\n",
    "            scn.Synth(\"drop\")\n",
    "            \n",
    "\n",
    "class DoubleDropBlink(DropBlink):\n",
    "    \n",
    "    @bundle\n",
    "    def _process(self, row):\n",
    "        intensity = row[\"AU45_r\"]\n",
    "        \n",
    "        if self.blinking:\n",
    "            if intensity < self.bounds[0]:\n",
    "                self.blinking = False\n",
    "                scn.Synth(\"drop\", {\"freq\": 900})\n",
    "        elif intensity > self.bounds[1]:\n",
    "            self.blinking = True\n",
    "            scn.Synth(\"drop\")"
   ]
  },
  {
   "cell_type": "code",
   "execution_count": null,
   "id": "28b579e1",
   "metadata": {},
   "outputs": [],
   "source": [
    "AU01_SAMPLE_PATH = \"samples/modified/au01.wav\"\n",
    "AU02_SAMPLE_PATH = \"samples/modified/au02.wav\"\n",
    "AU04_SAMPLE_PATH = \"samples/modified/au04.wav\"\n",
    "AU05_SAMPLE_PATH = \"samples/modified/au05.wav\"\n",
    "AU06_SAMPLE_PATH = \"samples/modified/au06.wav\"\n",
    "AU07_SAMPLE_PATH = \"samples/modified/au07.wav\"\n",
    "AU09_SAMPLE_PATH = \"samples/modified/au09.wav\"\n",
    "AU10_SAMPLE_PATH = \"samples/modified/au10.wav\"\n",
    "AU12_SAMPLE_PATH = \"samples/modified/au12.wav\"\n",
    "AU14_SAMPLE_PATH = \"samples/modified/au14.wav\"\n",
    "AU15_SAMPLE_PATH = \"samples/modified/au15.wav\"\n",
    "AU17_SAMPLE_PATH = \"samples/modified/au17.wav\"\n",
    "AU20_SAMPLE_PATH = \"samples/modified/au20.wav\"\n",
    "AU23_SAMPLE_PATH = \"samples/modified/au23.wav\"\n",
    "AU25_SAMPLE_PATH = \"samples/modified/au25.wav\"\n",
    "AU26_SAMPLE_PATH = \"samples/modified/au26.wav\"\n",
    "AU28_SAMPLE_PATH = \"samples/modified/au28.wav\""
   ]
  },
  {
   "cell_type": "code",
   "execution_count": null,
   "id": "f51531b3",
   "metadata": {},
   "outputs": [],
   "source": [
    "from collections import namedtuple\n",
    "\n",
    "class DirectionalPercussive(ps.Sonification):\n",
    "    \n",
    "    # parameters of the sonification\n",
    "    amp = ps.FloatSliderParameter(0, 1, 0.01)\n",
    "    pan = ps.CheckboxParameter()\n",
    "    # hysteresis bounds relative to each intensity level\n",
    "    bounds = ps.FloatRangeSliderParameter(-1, +1)\n",
    "\n",
    "    playbuf_def = scn.SynthDef(\n",
    "        \"playbuf_bend\",\n",
    "        r\"\"\"{| out=0, bufnum=0, rateInitial=1, amp=1, pan=0, breakTime, rateFinal |\n",
    "            var sig, rate;\n",
    "\n",
    "            var rateAvg = (rateInitial + rateFinal) / 2;\n",
    "            var sampleRateAvg = rateAvg * BufSampleRate.kr(bufnum);\n",
    "            var breakFrame = breakTime * BufSampleRate.kr(bufnum);\n",
    "            // mono signal: frames = samples\n",
    "            var remainingFrames = BufSamples.kr(bufnum) - breakFrame;\n",
    "            // calculate remaining time with dynamic rate\n",
    "            var remainingTime = remainingFrames / sampleRateAvg;\n",
    "\n",
    "            rate = EnvGen.kr(\n",
    "                Env(\n",
    "                    [rateInitial, rateInitial, rateFinal],\n",
    "                    [breakTime, remainingTime]\n",
    "                )\n",
    "            );\n",
    "            sig = PlayBuf.ar(1, bufnum, rate*BufRateScale.kr(bufnum), doneAction:2);\n",
    "            Out.ar(0, Pan2.ar(sig, pan, amp));\n",
    "        }\"\"\"\n",
    "    )\n",
    "    \n",
    "    AuRecord = namedtuple('AuRecord', ['label', 'path', 'break_time', 'rate_up', 'rate_down'])\n",
    "    \n",
    "    AUs = {\n",
    "        1:  AuRecord('AU01_r', AU01_SAMPLE_PATH, 0.2, 1.1, 0.9),\n",
    "        2:  AuRecord('AU02_r', AU02_SAMPLE_PATH, 0.2, 1.1, 0.9),\n",
    "        4:  AuRecord('AU04_r', AU04_SAMPLE_PATH, 0.2, 1.1, 0.9),\n",
    "        5:  AuRecord('AU05_r', AU05_SAMPLE_PATH, 0.05, 1.1, 0.9),\n",
    "        6:  AuRecord('AU06_r', AU06_SAMPLE_PATH, 0.03, 1.1, 0.9),\n",
    "        7:  AuRecord('AU07_r', AU07_SAMPLE_PATH, 0.1, 1.1, 0.9),\n",
    "        9:  AuRecord('AU09_r', AU09_SAMPLE_PATH, 0.2, 1.5, 0.7),\n",
    "        10: AuRecord('AU10_r', AU10_SAMPLE_PATH, 0.15, 1.2, 0.9),\n",
    "        12: AuRecord('AU12_r', AU12_SAMPLE_PATH, 0.1, 1.1, 0.9),\n",
    "        14: AuRecord('AU14_r', AU14_SAMPLE_PATH, 0.1, 1.1, 0.9),\n",
    "        15: AuRecord('AU15_r', AU15_SAMPLE_PATH, 0.05, 1.1, 0.9),\n",
    "        17: AuRecord('AU17_r', AU17_SAMPLE_PATH, 0.05, 1.5, 0.8),\n",
    "        20: AuRecord('AU20_r', AU20_SAMPLE_PATH, 0.1, 1.1, 0.9),\n",
    "        23: AuRecord('AU23_r', AU23_SAMPLE_PATH, 0.15, 1.25, 0.85),\n",
    "        25: AuRecord('AU25_r', AU25_SAMPLE_PATH, 0.005, 2, 0.5),\n",
    "        26: AuRecord('AU26_r', AU26_SAMPLE_PATH, 0.05, 2, 0.5)\n",
    "    }\n",
    "    \n",
    "    def init_parameters(self, pan=False):\n",
    "        self.amp = 0.3\n",
    "        self.pan = pan\n",
    "        self.bounds = [-0.3, +0.3]\n",
    "\n",
    "    @bundle\n",
    "    def init_server(self):\n",
    "        self.playbuf_def.add()\n",
    "        \n",
    "        self.buffers = {}\n",
    "        \n",
    "        # allocate buffers\n",
    "        for i, info in self.AUs.items():\n",
    "            self.buffers[i] = scn.Buffer().read(info.path)\n",
    "\n",
    "    @bundle\n",
    "    def start(self):\n",
    "        self.old_levels = {}\n",
    "        \n",
    "        # initialize old range levels\n",
    "        for i in self.AUs.keys():\n",
    "            self.old_levels[i] = 0\n",
    "    \n",
    "    @bundle\n",
    "    def stop(self):\n",
    "        # synths die out alone\n",
    "        pass\n",
    "    \n",
    "    @bundle\n",
    "    def _process(self, row):\n",
    "        \n",
    "        for i, info in self.AUs.items():\n",
    "            intensity = row[info.label]\n",
    "            cur_range_level = self.map_intensity(intensity, self.old_levels[i])\n",
    "            \n",
    "            if cur_range_level != self.old_levels[i] and cur_range_level >= 1:\n",
    "                db = scn.linlin(cur_range_level, 1, 5, -40, 0, \"minmax\")\n",
    "                amp = scn.dbamp(db)\n",
    "            \n",
    "                if cur_range_level > self.old_levels[i]:\n",
    "                    scn.Synth(\n",
    "                        \"playbuf_bend\",\n",
    "                        {\n",
    "                            \"bufnum\": self.buffers[i].bufnum,\n",
    "                            \"amp\": self.amp * amp,\n",
    "                            \"pan\": 1 if self.pan else 0,\n",
    "                            \"breakTime\": info.break_time,\n",
    "                            \"rateFinal\": info.rate_up\n",
    "                        }\n",
    "                    )\n",
    "                else:\n",
    "                    scn.Synth(\n",
    "                        \"playbuf_bend\",\n",
    "                        {\n",
    "                            \"bufnum\": self.buffers[i].bufnum,\n",
    "                            \"amp\": self.amp * amp,\n",
    "                            \"pan\": -1 if self.pan else 0,\n",
    "                            \"breakTime\": info.break_time,\n",
    "                            \"rateFinal\": info.rate_down\n",
    "                        }\n",
    "                    )\n",
    "                    \n",
    "            # update old_range_level\n",
    "            self.old_levels[i] = cur_range_level\n",
    "\n",
    "    def map_intensity(self, intensity, old_level):\n",
    "        cur_level = int(intensity)\n",
    "        \n",
    "        if cur_level == old_level:\n",
    "            return cur_level        \n",
    "        elif cur_level > old_level:\n",
    "            return cur_level if intensity > cur_level + self.bounds[1] else old_level\n",
    "        elif cur_level < old_level:\n",
    "            return cur_level if intensity < old_level + self.bounds[0] else old_level\n",
    "            \n",
    "    def free(self):\n",
    "        # deallocate buffers\n",
    "        for buf in self.buffers.values():\n",
    "            buf.free()"
   ]
  },
  {
   "cell_type": "code",
   "execution_count": null,
   "id": "b0bb028d",
   "metadata": {},
   "outputs": [],
   "source": [
    "class NoisyHead(ps.Sonification):\n",
    "    \n",
    "    # parameters of the sonification\n",
    "    amp = ps.FloatSliderParameter(0, 1)\n",
    "    base_tone = ps.MidiSliderParameter()\n",
    "    log_mapping = ps.CheckboxParameter()\n",
    "    \n",
    "    # max expected values for each rotation\n",
    "    rx_bound = ps.FloatSliderParameter(pi/2 / 10, pi/2)\n",
    "    ry_bound = ps.FloatSliderParameter(pi/2 / 10, pi/2)\n",
    "    rz_bound = ps.FloatSliderParameter(pi/2 / 10, pi/2)\n",
    "    \n",
    "    synth_def = scn.SynthDef(\n",
    "        \"bpf_noise\",\n",
    "        r\"\"\"{ | amp=1, pan=0, lg=0.5, freq=440, rq=0.2 |\n",
    "            var sig;\n",
    "            sig = PinkNoise.ar(amp);\n",
    "            sig = BPF.ar(\n",
    "                sig,\n",
    "                freq.lag(lg),\n",
    "                rq.lag(lg),\n",
    "                // when a bandpass filter narrows, the amplitude decreases: this will balance it\n",
    "                1/rq.sqrt.lag(lg)\n",
    "            );\n",
    "            Out.ar(0, Pan2.ar(sig, pan));\n",
    "        }\"\"\"\n",
    "    )\n",
    "    \n",
    "    def init_parameters(self):\n",
    "        self.amp = 0.3\n",
    "        self.base_tone = 69\n",
    "        self.log_mapping = False\n",
    "        \n",
    "        self.rx_bound = pi/2\n",
    "        self.ry_bound = pi/2\n",
    "        self.rz_bound = pi/4\n",
    "    \n",
    "    @bundle\n",
    "    def init_server(self):\n",
    "        self.synth_def.add()\n",
    "\n",
    "    @bundle\n",
    "    def start(self):\n",
    "        self.synth = scn.Synth(\"bpf_noise\", {\"amp\": 0, \"lg\": 0.015})\n",
    "    \n",
    "    @bundle\n",
    "    def _process(self, row):\n",
    "        \n",
    "        rx, ry, rz = row[['pose_Rx', 'pose_Ry', 'pose_Rz']]\n",
    "        \n",
    "        # use log() - 1 to map\n",
    "        if self.log_mapping:\n",
    "            rx_log = log2(scn.linlin(abs(rx), 0, self.rx_bound, 1, 2, 'minmax'))\n",
    "            rx_midi = scn.linlin(rx_log, 0, 1, 0, 12, 'minmax')\n",
    "            sign = 1 if rx >= 0 else -1\n",
    "            pitch = self.base_tone + sign * rx_midi\n",
    "            \n",
    "            ry_exp = scn.linlin(abs(ry), 0, self.ry_bound, 1, 2, 'minmax')\n",
    "            sign = 1 if ry >= 0 else -1\n",
    "            pan = sign * log2(ry_exp)\n",
    "                        \n",
    "            q =   scn.linlin(rz, -self.rz_bound, +self.rz_bound, 1, 100, 'minmax')\n",
    "            \n",
    "        else:\n",
    "            pitch = scn.linlin(rx, -self.rx_bound, +self.rx_bound, self.base_tone+12, self.base_tone-12, \"minmax\")\n",
    "            pan =   scn.linlin(ry, -self.ry_bound, +self.ry_bound, +1, -1, \"minmax\")\n",
    "            # linexp mapping to quality\n",
    "            q =   exp(scn.linlin(rz, -self.rz_bound, +self.rz_bound, log2(1), log2(100), 'minmax'))\n",
    "        \n",
    "        self.synth.set(\n",
    "            \"amp\", self.amp,\n",
    "            \"freq\", scn.midicps(pitch),\n",
    "            \"pan\", pan,\n",
    "            \"rq\", 1/q\n",
    "        )"
   ]
  },
  {
   "cell_type": "code",
   "execution_count": null,
   "id": "e4e3d322",
   "metadata": {},
   "outputs": [],
   "source": [
    "class SilentGaze(ps.Sonification):\n",
    "    \n",
    "    # parameters of the sonification\n",
    "    amp = ps.FloatSliderParameter(0, 1, 0.01)\n",
    "    \n",
    "    gx_silence_thrashold = ps.FloatSliderParameter(0, pi/2, 0.01)\n",
    "    gy_silence_thrashold = ps.FloatSliderParameter(0, pi/2, 0.01)\n",
    "    \n",
    "    freq = ps.FreqSliderParameter()\n",
    "    \n",
    "    def init_parameters(self):\n",
    "        self.amp = 0.1\n",
    "        self.gx_silence_thrashold = pi/2 / 10\n",
    "        self.gy_silence_thrashold = pi/2 / 10\n",
    "        \n",
    "        self.freq = 50\n",
    "    \n",
    "    @bundle\n",
    "    def init_server(self):\n",
    "        scn.SynthDef.load(\"/home/michele/Desktop/Thesis/tools/sc3nb/src/sc3nb/resources/synthdefs/s2.scsyndef\")\n",
    "\n",
    "    @bundle\n",
    "    def start(self):\n",
    "        self.synth = scn.Synth(\"s2\", {\"amp\": 0, \"lg\": 0.015})\n",
    "    \n",
    "    @bundle\n",
    "    def _process(self, row):\n",
    "        \n",
    "        gx, gy = row[['gaze_angle_x', 'gaze_angle_y']]\n",
    "        \n",
    "        # linear mapping\n",
    "        amp = max(\n",
    "            # clips values under silence thrashold\n",
    "            scn.linlin(abs(gx), self.gx_silence_thrashold, pi/2, 0, 1, \"minmax\"),\n",
    "            scn.linlin(abs(gy), self.gy_silence_thrashold, pi/2, 0, 1, \"minmax\")\n",
    "        )\n",
    "        \n",
    "        pan =   scn.linlin(gx, -pi/2, +pi/2, -1, +1)\n",
    "        pitch = scn.linlin(gy, -pi/2, +pi/2, 69+12, 69-12)\n",
    "        \n",
    "        self.synth.set(\n",
    "            \"amp\", self.amp * amp,\n",
    "            \"freq\", scn.midicps(pitch),\n",
    "            \"pan\", pan\n",
    "        )"
   ]
  },
  {
   "cell_type": "code",
   "execution_count": null,
   "id": "23c6f9c0",
   "metadata": {},
   "outputs": [],
   "source": [
    "class DustSmile(ps.Sonification):\n",
    "    \n",
    "    # parameters of the sonification\n",
    "    amp = ps.FloatSliderParameter(0, 1)\n",
    "    base_tone = ps.MidiSliderParameter()\n",
    "    \n",
    "    synth_def = scn.SynthDef(\n",
    "        \"discrete_rev\",\n",
    "        r\"\"\"{ | amp=1, freq=440, density=2, mix=0.5, room=0.5, damp=0.2, lg=0.1 |\n",
    "            var trig, sig, env;\n",
    "            sig = SinOsc.ar(freq);\n",
    "            // transform signal into short blips\n",
    "            trig = Dust.kr(density);\n",
    "            env = EnvGen.kr(Env.perc(0.001, 0.05), trig);\n",
    "            sig = sig * env;\n",
    "            sig = FreeVerb.ar(sig, mix.lag(lg), room.lag(lg), damp.lag(lg), amp.lag(lg));\n",
    "            Out.ar(0, sig!2);\n",
    "        }\"\"\"\n",
    "    )\n",
    "    \n",
    "    def init_parameters(self):\n",
    "        self.amp = 0.3\n",
    "        self.base_tone = 69\n",
    "    \n",
    "    @bundle\n",
    "    def init_server(self):\n",
    "        self.synth_def.add()\n",
    "\n",
    "    @bundle\n",
    "    def start(self):\n",
    "        self.synth = scn.Synth(\"discrete_rev\", {\"amp\": 0})\n",
    "    \n",
    "    @bundle\n",
    "    def _process(self, row):\n",
    "        # intensities\n",
    "        au06, au12, au15, au17 = row[['AU06_r', 'AU12_r', 'AU15_r', 'AU17_r']]\n",
    "\n",
    "        if au12 > 1 and au15 > 1:\n",
    "            # this should not happen usually\n",
    "            return\n",
    "        \n",
    "        if au12 > 1:\n",
    "            pitch = scn.linlin(au12, 1, 5, self.base_tone, self.base_tone+12, 'minmax')\n",
    "            mix = scn.linlin(au06, 1, 3, 0.2, 1, 'minmax')\n",
    "            density = scn.linlin(max(au12, au06), 1, 5, 5, 30, 'minmax')\n",
    "        elif au15 > 1:\n",
    "            pitch = scn.linlin(au15, 1, 5, self.base_tone, self.base_tone-12, 'minmax')\n",
    "            mix = scn.linlin(au17, 1, 3, 0.2, 1, 'minmax')\n",
    "            density = scn.linlin(max(au15, au17), 1, 5, 5, 30, 'minmax')\n",
    "        else:\n",
    "            pitch = 69\n",
    "            mix = 0\n",
    "            density = 0\n",
    "        \n",
    "        self.synth.set(\n",
    "            \"amp\", self.amp,\n",
    "            \"freq\", scn.midicps(pitch),\n",
    "            \"mix\", mix,\n",
    "            \"density\", density,\n",
    "        )"
   ]
  },
  {
   "cell_type": "markdown",
   "id": "ec08b3b4",
   "metadata": {},
   "source": [
    "## Tests"
   ]
  },
  {
   "cell_type": "markdown",
   "id": "c01f1a1c",
   "metadata": {},
   "source": [
    "### Sonification\n",
    "This is a very simple sonification of AU04 (Brow Lowerer). The intensity of AU04 is used here to modulate both the amplitude and the frequency of a continuous synth. As continuous synth, the default synth of sc3nb s2 is used (we will have to instruct the server to load it).\n",
    "\n",
    "* The intensity range \\[0,1\\] is mapped into the amplitude range \\[0,0.3\\], where 0.3 will be the maximum amplitude of the sound. The sonification has a parameter amp that can be used to scale this range.\n",
    "* The intensity range \\[0,5\\] is mapped into the midi range \\[69,81\\]"
   ]
  },
  {
   "cell_type": "code",
   "execution_count": null,
   "id": "323abc5b",
   "metadata": {},
   "outputs": [],
   "source": [
    "son = AU04ContinuousSonification()\n",
    "son"
   ]
  },
  {
   "cell_type": "markdown",
   "id": "315a7d5f",
   "metadata": {},
   "source": [
    "#### Online"
   ]
  },
  {
   "cell_type": "code",
   "execution_count": null,
   "id": "5cf5a08f",
   "metadata": {},
   "outputs": [],
   "source": [
    "rtdp = ps.RTDataPlayer(openface_stream, son)"
   ]
  },
  {
   "cell_type": "code",
   "execution_count": null,
   "id": "9fb73c75",
   "metadata": {
    "scrolled": true
   },
   "outputs": [],
   "source": [
    "display(son)\n",
    "rtdp"
   ]
  },
  {
   "cell_type": "markdown",
   "id": "57f7269a",
   "metadata": {},
   "source": [
    "#### Offline"
   ]
  },
  {
   "cell_type": "code",
   "execution_count": null,
   "id": "07de0c54",
   "metadata": {
    "scrolled": false
   },
   "outputs": [],
   "source": [
    "dp = ps.DataPlayer(son).load('log.csv')\n",
    "\n",
    "display(son)\n",
    "display(dp)"
   ]
  },
  {
   "cell_type": "code",
   "execution_count": null,
   "id": "8f4c3fa4",
   "metadata": {
    "scrolled": true
   },
   "outputs": [],
   "source": [
    "dp.export(\"score.wav\", header_format=\"WAV\")"
   ]
  },
  {
   "cell_type": "markdown",
   "id": "5bfa492c",
   "metadata": {},
   "source": [
    "### GroupSonification"
   ]
  },
  {
   "cell_type": "code",
   "execution_count": null,
   "id": "098996ab",
   "metadata": {},
   "outputs": [],
   "source": [
    "son = ps.GroupSonification([DirectionalPercussive(), DropBlink(), NoisyHead(), SilentGaze()])\n",
    "son"
   ]
  },
  {
   "cell_type": "code",
   "execution_count": null,
   "id": "ef65d7f2",
   "metadata": {
    "scrolled": false
   },
   "outputs": [],
   "source": [
    "rtdp = ps.RTDataPlayer(openface_stream, son)\n",
    "rtdp"
   ]
  },
  {
   "cell_type": "code",
   "execution_count": null,
   "id": "4b7c172a",
   "metadata": {},
   "outputs": [],
   "source": [
    "dp = ps.DataPlayer(son).load('log.csv')\n",
    "dp"
   ]
  },
  {
   "cell_type": "code",
   "execution_count": null,
   "id": "ff6d5df6",
   "metadata": {},
   "outputs": [],
   "source": [
    "dp.export(\"score.wav\", header_format=\"WAV\")"
   ]
  },
  {
   "cell_type": "markdown",
   "id": "e1a715e8",
   "metadata": {},
   "source": [
    "### Feature Display"
   ]
  },
  {
   "cell_type": "code",
   "execution_count": null,
   "id": "0af71413",
   "metadata": {},
   "outputs": [],
   "source": [
    "feature_display = ps.RTFeatureDisplay(['AU04_r', 'AU12_r'], 100).show()"
   ]
  },
  {
   "cell_type": "code",
   "execution_count": null,
   "id": "6a89000c",
   "metadata": {},
   "outputs": [],
   "source": [
    "son = AU04ContinuousSonification()\n",
    "son"
   ]
  },
  {
   "cell_type": "code",
   "execution_count": null,
   "id": "0327772e",
   "metadata": {},
   "outputs": [],
   "source": [
    "dp = ps.DataPlayer(son, feature_display=feature_display).load(df)\n",
    "dp"
   ]
  },
  {
   "cell_type": "markdown",
   "id": "2b5b5b00",
   "metadata": {},
   "source": [
    "### VideoPlayers"
   ]
  },
  {
   "cell_type": "code",
   "execution_count": null,
   "id": "c47466fb",
   "metadata": {},
   "outputs": [],
   "source": [
    "vp = ps.VideoPlayer('/home/michele/Desktop/Thesis/media/files/phone.avi', fps=30)"
   ]
  },
  {
   "cell_type": "code",
   "execution_count": null,
   "id": "648dc332",
   "metadata": {},
   "outputs": [],
   "source": [
    "dp = ps.DataPlayer(son, video_player=vp).load(df)\n",
    "\n",
    "display(son)\n",
    "display(dp)"
   ]
  },
  {
   "cell_type": "code",
   "execution_count": null,
   "id": "846e17e2",
   "metadata": {},
   "outputs": [],
   "source": [
    "vp.quit()"
   ]
  },
  {
   "cell_type": "markdown",
   "id": "c405e670",
   "metadata": {},
   "source": [
    "With long videos."
   ]
  },
  {
   "cell_type": "code",
   "execution_count": null,
   "id": "2e2e843e",
   "metadata": {},
   "outputs": [],
   "source": [
    "vp = ps.VideoPlayer('long/movie', fps=25)"
   ]
  },
  {
   "cell_type": "code",
   "execution_count": null,
   "id": "9fa2fd31",
   "metadata": {},
   "outputs": [],
   "source": [
    "import time\n",
    "\n",
    "for i in range(10000):\n",
    "    vp.seek(i)\n",
    "    time.sleep(1 / 23.98)"
   ]
  },
  {
   "cell_type": "code",
   "execution_count": null,
   "id": "0d7696d1",
   "metadata": {},
   "outputs": [],
   "source": [
    "vp.seek_time(4001)"
   ]
  },
  {
   "cell_type": "code",
   "execution_count": null,
   "id": "25848c53",
   "metadata": {},
   "outputs": [],
   "source": [
    "vp.quit()"
   ]
  },
  {
   "cell_type": "markdown",
   "id": "0e92ba0f",
   "metadata": {},
   "source": [
    "### Preprocessors"
   ]
  },
  {
   "cell_type": "code",
   "execution_count": null,
   "id": "66e67c05",
   "metadata": {},
   "outputs": [],
   "source": [
    "avg_features = df.filter(regex='(AU.{2}_r)|(pose_R.)|(gaze_angle_.)').columns.to_list()\n",
    "# avg_features"
   ]
  },
  {
   "cell_type": "code",
   "execution_count": null,
   "id": "9a55dbfc",
   "metadata": {},
   "outputs": [],
   "source": [
    "class MovingAverage(ps.Preprocessor):\n",
    "\n",
    "    def __init__(self):\n",
    "        self.features = None\n",
    "        self.avg_features = avg_features\n",
    "        \n",
    "        self.window_size = 5\n",
    "        self.window = pd.DataFrame()\n",
    "    \n",
    "    def preprocess(self, row):        \n",
    "        if self.features is None:\n",
    "            self.features = row.index.to_list()\n",
    "            \n",
    "        self.window = self.window.append(row[self.avg_features])\n",
    "    \n",
    "        if self.window.shape[0] > self.window_size:\n",
    "            self.window = self.window.drop(self.window.index[0])\n",
    "\n",
    "        mean_series = self.window.mean()\n",
    "\n",
    "        # write values into row\n",
    "        for label in self.avg_features:\n",
    "            row[label] = mean_series[label]"
   ]
  },
  {
   "cell_type": "code",
   "execution_count": null,
   "id": "040ffb85",
   "metadata": {
    "scrolled": false
   },
   "outputs": [],
   "source": [
    "from panson import streams\n",
    "\n",
    "FIFO_PATH = os.path.join(FILE_DIR, 'pipe.csv')\n",
    "\n",
    "openface_stream_avg = streams.CsvFifo('openface', args=(FIFO_PATH,), preprocessor=MovingAverage)\\\n",
    "        .add_open_hook(feature_extraction_online)\\\n",
    "        .add_close_hook(kill_feature_extraction_online)\\\n",
    "        .test()"
   ]
  },
  {
   "cell_type": "code",
   "execution_count": null,
   "id": "0bc5371f",
   "metadata": {},
   "outputs": [],
   "source": [
    "feature_display = ps.LiveFeatureDisplay(['AU04_r', 'AU12_r'], 100)"
   ]
  },
  {
   "cell_type": "code",
   "execution_count": null,
   "id": "76cb5970",
   "metadata": {},
   "outputs": [],
   "source": [
    "rtdp = ps.RTDataPlayer(openface_stream, son, feature_display=feature_display)"
   ]
  },
  {
   "cell_type": "code",
   "execution_count": null,
   "id": "137c8c1c",
   "metadata": {},
   "outputs": [],
   "source": [
    "rtdp = ps.RTDataPlayer(openface_stream_avg, son, feature_display=feature_display)"
   ]
  },
  {
   "cell_type": "code",
   "execution_count": null,
   "id": "85693151",
   "metadata": {},
   "outputs": [],
   "source": [
    "feature_display.show()\n",
    "rtdp"
   ]
  },
  {
   "cell_type": "markdown",
   "id": "b3e80089",
   "metadata": {},
   "source": [
    "### Streams"
   ]
  },
  {
   "cell_type": "markdown",
   "id": "bc38cbe8",
   "metadata": {},
   "source": [
    "### Multi-stream"
   ]
  },
  {
   "cell_type": "code",
   "execution_count": null,
   "id": "2fd3220f",
   "metadata": {},
   "outputs": [],
   "source": [
    "class NoisyHeadMulti(ps.Sonification):\n",
    "    \n",
    "    # parameters of the sonification\n",
    "    amp = ps.FloatSliderParameter(0, 1)\n",
    "    base_tone = ps.MidiSliderParameter()\n",
    "    log_mapping = ps.CheckboxParameter()\n",
    "    \n",
    "    # max expected values for each rotation\n",
    "    rx_bound = ps.FloatSliderParameter(pi/2 / 10, pi/2)\n",
    "    ry_bound = ps.FloatSliderParameter(pi/2 / 10, pi/2)\n",
    "    rz_bound = ps.FloatSliderParameter(pi/2 / 10, pi/2)\n",
    "    \n",
    "    synth_def = scn.SynthDef(\n",
    "        \"bpf_noise\",\n",
    "        r\"\"\"{ | amp=1, pan=0, lg=0.5, freq=440, rq=0.2 |\n",
    "            var sig;\n",
    "            sig = PinkNoise.ar(amp);\n",
    "            sig = BPF.ar(\n",
    "                sig,\n",
    "                freq.lag(lg),\n",
    "                rq.lag(lg),\n",
    "                // when a bandpass filter narrows, the amplitude decreases: this will balance it\n",
    "                1/rq.sqrt.lag(lg)\n",
    "            );\n",
    "            Out.ar(0, Pan2.ar(sig, pan));\n",
    "        }\"\"\"\n",
    "    )\n",
    "    \n",
    "    def init_parameters(self):\n",
    "        self.amp = 0.3\n",
    "        self.base_tone = 69\n",
    "        self.log_mapping = False\n",
    "        \n",
    "        self.rx_bound = pi/2\n",
    "        self.ry_bound = pi/2\n",
    "        self.rz_bound = pi/4\n",
    "    \n",
    "    @bundle\n",
    "    def init_server(self):\n",
    "        self.synth_def.add()\n",
    "\n",
    "    @bundle\n",
    "    def start(self):\n",
    "        self.synth = scn.Synth(\"bpf_noise\", {\"amp\": 0, \"lg\": 0.015})\n",
    "    \n",
    "    @bundle\n",
    "    def _process(self, row):\n",
    "        \n",
    "        # use sin value as amplitude modulator\n",
    "        amp_mod = scn.linlin(row['value'], -1, 1, 0, 1, 'minmax')\n",
    "        \n",
    "        rx, ry, rz = row[['pose_Rx', 'pose_Ry', 'pose_Rz']]\n",
    "        \n",
    "        # use log() - 1 to map\n",
    "        if self.log_mapping:\n",
    "            rx_log = log2(scn.linlin(abs(rx), 0, self.rx_bound, 1, 2, 'minmax'))\n",
    "            rx_midi = scn.linlin(rx_log, 0, 1, 0, 12, 'minmax')\n",
    "            sign = 1 if rx >= 0 else -1\n",
    "            pitch = self.base_tone + sign * rx_midi\n",
    "            \n",
    "            ry_exp = scn.linlin(abs(ry), 0, self.ry_bound, 1, 2, 'minmax')\n",
    "            sign = 1 if ry >= 0 else -1\n",
    "            pan = sign * log2(ry_exp)\n",
    "                        \n",
    "            q =   scn.linlin(rz, -self.rz_bound, +self.rz_bound, 1, 100, 'minmax')\n",
    "            \n",
    "        else:\n",
    "            pitch = scn.linlin(rx, -self.rx_bound, +self.rx_bound, self.base_tone+12, self.base_tone-12, \"minmax\")\n",
    "            pan =   scn.linlin(ry, -self.ry_bound, +self.ry_bound, +1, -1, \"minmax\")\n",
    "            # linexp mapping to quality\n",
    "            q =   exp(scn.linlin(rz, -self.rz_bound, +self.rz_bound, log2(1), log2(100), 'minmax'))\n",
    "        \n",
    "        self.synth.set(\n",
    "            \"amp\", self.amp * amp_mod,\n",
    "            \"freq\", scn.midicps(pitch),\n",
    "            \"pan\", pan,\n",
    "            \"rq\", 1/q\n",
    "        )"
   ]
  },
  {
   "cell_type": "code",
   "execution_count": null,
   "id": "b2afb674",
   "metadata": {},
   "outputs": [],
   "source": [
    "son = NoisyHeadMulti()\n",
    "son"
   ]
  },
  {
   "cell_type": "code",
   "execution_count": null,
   "id": "f1f3d5ed",
   "metadata": {},
   "outputs": [],
   "source": [
    "sin = streams.DummySin('sin', kwargs={'fps': 20, 'timestamps': False}).test()"
   ]
  },
  {
   "cell_type": "code",
   "execution_count": null,
   "id": "9dd98c26",
   "metadata": {},
   "outputs": [],
   "source": [
    "import math, time\n",
    "\n",
    "class DummySinErr(ps.Stream):\n",
    "    \"\"\"Crashes after 10 seconds.\"\"\"\n",
    "\n",
    "    @staticmethod\n",
    "    def datagen(fps=30, amp=1, timestamps=True):\n",
    "        \"\"\"Yields sinusoidal values varying with time.\"\"\"\n",
    "\n",
    "        header = ['sinerr_value']\n",
    "        if timestamps:\n",
    "            # head insert\n",
    "            header.insert(0, 'timestamp')\n",
    "\n",
    "        yield np.array(header)\n",
    "\n",
    "        t0 = time.time()\n",
    "\n",
    "        while True:\n",
    "            t = time.time() - t0\n",
    "            \n",
    "            if t > 10:\n",
    "                a = 1 / 0\n",
    "            \n",
    "            value = math.sin(t) * amp\n",
    "            data = [value]\n",
    "            if timestamps:\n",
    "                data.insert(0, t)\n",
    "\n",
    "            yield np.array(data)\n",
    "\n",
    "            # TODO: improve timing\n",
    "            time.sleep(1 / fps)"
   ]
  },
  {
   "cell_type": "code",
   "execution_count": null,
   "id": "2fd7c325",
   "metadata": {},
   "outputs": [],
   "source": [
    "sinerr = DummySinErr('sinerr', kwargs={'fps': 20, 'timestamps': False}).test()"
   ]
  },
  {
   "cell_type": "markdown",
   "id": "b027311f",
   "metadata": {},
   "source": [
    "#### Multi-threading"
   ]
  },
  {
   "cell_type": "code",
   "execution_count": null,
   "id": "769e3299",
   "metadata": {
    "scrolled": false
   },
   "outputs": [],
   "source": [
    "rtdpmt = ps.RTDataPlayerMT([openface_stream, sin], son, fps=30)"
   ]
  },
  {
   "cell_type": "code",
   "execution_count": null,
   "id": "26e3037e",
   "metadata": {
    "scrolled": false
   },
   "outputs": [],
   "source": [
    "rtdpmt"
   ]
  },
  {
   "cell_type": "code",
   "execution_count": null,
   "id": "29d41aa5",
   "metadata": {},
   "outputs": [],
   "source": [
    "dp = ps.DataPlayer(son).load('log.csv')\n",
    "dp"
   ]
  },
  {
   "cell_type": "markdown",
   "id": "8ebddd48",
   "metadata": {},
   "source": [
    "#### Multi-processing"
   ]
  },
  {
   "cell_type": "code",
   "execution_count": null,
   "id": "6dce3d73",
   "metadata": {},
   "outputs": [],
   "source": [
    "rtdpmp = ps.RTDataPlayerMP([openface_stream, sin], son, fps=30)"
   ]
  },
  {
   "cell_type": "code",
   "execution_count": null,
   "id": "489e17f8",
   "metadata": {
    "scrolled": false
   },
   "outputs": [],
   "source": [
    "rtdpmp"
   ]
  },
  {
   "cell_type": "code",
   "execution_count": null,
   "id": "3c237bb9",
   "metadata": {},
   "outputs": [],
   "source": [
    "dp = ps.DataPlayer(son).load('log.csv')\n",
    "dp"
   ]
  },
  {
   "cell_type": "code",
   "execution_count": null,
   "id": "dd8c06d2",
   "metadata": {},
   "outputs": [],
   "source": [
    "rtdpmp = ps.RTDataPlayerMP([openface_stream, sin, sinerr], son, fps=30)"
   ]
  },
  {
   "cell_type": "code",
   "execution_count": null,
   "id": "b9545c24",
   "metadata": {},
   "outputs": [],
   "source": [
    "rtdpmp"
   ]
  }
 ],
 "metadata": {
  "kernelspec": {
   "display_name": "Python [conda env:face]",
   "language": "python",
   "name": "conda-env-face-py"
  },
  "language_info": {
   "codemirror_mode": {
    "name": "ipython",
    "version": 3
   },
   "file_extension": ".py",
   "mimetype": "text/x-python",
   "name": "python",
   "nbconvert_exporter": "python",
   "pygments_lexer": "ipython3",
   "version": "3.9.10"
  },
  "toc": {
   "base_numbering": 1,
   "nav_menu": {},
   "number_sections": true,
   "sideBar": true,
   "skip_h1_title": false,
   "title_cell": "Table of Contents",
   "title_sidebar": "Contents",
   "toc_cell": false,
   "toc_position": {},
   "toc_section_display": true,
   "toc_window_display": false
  },
  "varInspector": {
   "cols": {
    "lenName": 16,
    "lenType": 16,
    "lenVar": 40
   },
   "kernels_config": {
    "python": {
     "delete_cmd_postfix": "",
     "delete_cmd_prefix": "del ",
     "library": "var_list.py",
     "varRefreshCmd": "print(var_dic_list())"
    },
    "r": {
     "delete_cmd_postfix": ") ",
     "delete_cmd_prefix": "rm(",
     "library": "var_list.r",
     "varRefreshCmd": "cat(var_dic_list()) "
    }
   },
   "types_to_exclude": [
    "module",
    "function",
    "builtin_function_or_method",
    "instance",
    "_Feature"
   ],
   "window_display": false
  }
 },
 "nbformat": 4,
 "nbformat_minor": 5
}
