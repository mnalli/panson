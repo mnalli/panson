{
 "cells": [
  {
   "cell_type": "markdown",
   "id": "5ffe558a",
   "metadata": {},
   "source": [
    "# Misc experiments"
   ]
  },
  {
   "cell_type": "markdown",
   "id": "f70ccd44",
   "metadata": {},
   "source": [
    "## Multi-stream"
   ]
  },
  {
   "cell_type": "code",
   "execution_count": null,
   "id": "5c41d20c",
   "metadata": {},
   "outputs": [],
   "source": [
    "import logging\n",
    "logging.basicConfig(level=logging.DEBUG)"
   ]
  },
  {
   "cell_type": "code",
   "execution_count": null,
   "id": "64d410b2",
   "metadata": {},
   "outputs": [],
   "source": [
    "import panson as ps\n",
    "from panson import bundle\n",
    "from panson import data_gens"
   ]
  },
  {
   "cell_type": "code",
   "execution_count": null,
   "id": "fe6ffadd",
   "metadata": {},
   "outputs": [],
   "source": [
    "import sc3nb as scn"
   ]
  },
  {
   "cell_type": "code",
   "execution_count": null,
   "id": "7add7826",
   "metadata": {},
   "outputs": [],
   "source": [
    "# start scsynth\n",
    "sc = scn.startup()\n",
    "# connect scsynth to the system playback\n",
    "!jack_connect \"SuperCollider:out_1\" \"system:playback_1\"\n",
    "!jack_connect \"SuperCollider:out_2\" \"system:playback_2\""
   ]
  },
  {
   "cell_type": "code",
   "execution_count": null,
   "id": "9cb3d195",
   "metadata": {},
   "outputs": [],
   "source": [
    "sc.exit()"
   ]
  },
  {
   "cell_type": "code",
   "execution_count": null,
   "id": "644463c9",
   "metadata": {},
   "outputs": [],
   "source": [
    "sc.server.blip()"
   ]
  },
  {
   "cell_type": "code",
   "execution_count": null,
   "id": "4ae7f917",
   "metadata": {},
   "outputs": [],
   "source": [
    "sc.server.latency = 0.1"
   ]
  },
  {
   "cell_type": "code",
   "execution_count": null,
   "id": "2fe83534",
   "metadata": {},
   "outputs": [],
   "source": [
    "class Sines(ps.Sonification):\n",
    "    \n",
    "    # parameters of the sonification\n",
    "    amp = ps.FloatSliderParameter(0, 1, 0.01)\n",
    "        \n",
    "    def init_parameters(self):\n",
    "        self.amp = 0.3\n",
    "    \n",
    "    @bundle\n",
    "    def init_server(self):\n",
    "        scn.SynthDef.load(\"/home/michele/Desktop/Thesis/tools/sc3nb/src/sc3nb/resources/synthdefs/s2.scsyndef\")\n",
    "\n",
    "    @bundle\n",
    "    def start(self):\n",
    "        # lag time is decided based on the frame rate\n",
    "        self.value_synth = scn.Synth(\"s2\", {\"amp\": 0, \"lg\": 0.03})\n",
    "        self.sincos_synth = scn.Synth(\"s2\", {\"amp\": 0, \"lg\": 0.03})\n",
    "\n",
    "    @bundle\n",
    "    def _process(self, row):\n",
    "        self.value_synth.set(\n",
    "            \"amp\", self.amp,\n",
    "            # map the intensity of the AU in one octave range\n",
    "            \"freq\", scn.midicps(scn.linlin(row[\"value\"], 0, 1, 69, 81))\n",
    "        )\n",
    "        self.sincos_synth.set(\n",
    "            \"amp\", self.amp,\n",
    "            \"pan\", row[\"cos\"],\n",
    "            # map the intensity of the AU in one octave range\n",
    "            \"freq\", scn.midicps(scn.linlin(row[\"sin\"], 0, 1, 69+4, 81+4))\n",
    "        )\n",
    "        "
   ]
  },
  {
   "cell_type": "code",
   "execution_count": null,
   "id": "8367ba4f",
   "metadata": {},
   "outputs": [],
   "source": [
    "son = Sines()\n",
    "son"
   ]
  },
  {
   "cell_type": "code",
   "execution_count": null,
   "id": "30a84ee9",
   "metadata": {},
   "outputs": [],
   "source": [
    "from functools import partial\n",
    "\n",
    "rtdp = ps.RTDataPlayerMulti(\n",
    "    30,\n",
    "    [partial(data_gens.dummy_sin_gen, fps=15, timestamps=False), partial(data_gens.dummy_sin_cos_gen, timestamps=False)], son)\n",
    "rtdp"
   ]
  },
  {
   "cell_type": "markdown",
   "id": "7e838102",
   "metadata": {},
   "source": [
    "## Concatenate series"
   ]
  },
  {
   "cell_type": "code",
   "execution_count": null,
   "id": "a9f79449",
   "metadata": {},
   "outputs": [],
   "source": [
    "import pandas as pd"
   ]
  },
  {
   "cell_type": "code",
   "execution_count": null,
   "id": "12dc9054",
   "metadata": {},
   "outputs": [],
   "source": [
    "s = pd.Series(range(10), index=range(10, 20))\n",
    "s"
   ]
  },
  {
   "cell_type": "code",
   "execution_count": null,
   "id": "59b4c95e",
   "metadata": {},
   "outputs": [],
   "source": [
    "s.to_csv('log.csv', mode='a')"
   ]
  },
  {
   "cell_type": "code",
   "execution_count": null,
   "id": "eecba540",
   "metadata": {},
   "outputs": [],
   "source": [
    "from panson import data_gens"
   ]
  },
  {
   "cell_type": "code",
   "execution_count": null,
   "id": "f857a1df",
   "metadata": {},
   "outputs": [],
   "source": [
    "gen1 = data_gens.dummy_sin_cos_gen()\n",
    "gen2 = data_gens.dummy_sin_gen()"
   ]
  },
  {
   "cell_type": "code",
   "execution_count": null,
   "id": "a873aed3",
   "metadata": {},
   "outputs": [],
   "source": [
    "s1 = next(gen1)\n",
    "s1"
   ]
  },
  {
   "cell_type": "code",
   "execution_count": null,
   "id": "3bc8f100",
   "metadata": {},
   "outputs": [],
   "source": [
    "s2 = next(gen2)\n",
    "s2"
   ]
  },
  {
   "cell_type": "code",
   "execution_count": null,
   "id": "3593d1e0",
   "metadata": {},
   "outputs": [],
   "source": [
    "s2.to"
   ]
  },
  {
   "cell_type": "code",
   "execution_count": null,
   "id": "cd035ba2",
   "metadata": {},
   "outputs": [],
   "source": [
    "pd.concat([s1, s2], verify_integrity=True)"
   ]
  },
  {
   "cell_type": "code",
   "execution_count": null,
   "id": "6dfc493b",
   "metadata": {},
   "outputs": [],
   "source": [
    "s.to_frame().transpose()"
   ]
  },
  {
   "cell_type": "markdown",
   "id": "fba16824",
   "metadata": {},
   "source": [
    "## Video"
   ]
  },
  {
   "cell_type": "code",
   "execution_count": null,
   "id": "8f85e7da",
   "metadata": {},
   "outputs": [],
   "source": [
    "import panson as ps"
   ]
  },
  {
   "cell_type": "code",
   "execution_count": null,
   "id": "ef5d7e21",
   "metadata": {},
   "outputs": [],
   "source": [
    "rtvp = ps.RTVideoPlayer(width=1280, height=1024, fps=30)"
   ]
  },
  {
   "cell_type": "code",
   "execution_count": null,
   "id": "7a9b18c5",
   "metadata": {},
   "outputs": [],
   "source": [
    "rtvp = ps.RTVideoPlayer()"
   ]
  },
  {
   "cell_type": "code",
   "execution_count": null,
   "id": "a9e4fdf7",
   "metadata": {},
   "outputs": [],
   "source": [
    "rtvp.record()"
   ]
  },
  {
   "cell_type": "code",
   "execution_count": null,
   "id": "68ae8896",
   "metadata": {},
   "outputs": [],
   "source": [
    "rtvp.stop()"
   ]
  },
  {
   "cell_type": "code",
   "execution_count": null,
   "id": "994ca627",
   "metadata": {},
   "outputs": [],
   "source": [
    "rtvp.quit()"
   ]
  },
  {
   "cell_type": "code",
   "execution_count": null,
   "id": "8b776213",
   "metadata": {},
   "outputs": [],
   "source": [
    "rtvp.set_filename('record.avi')"
   ]
  },
  {
   "cell_type": "code",
   "execution_count": null,
   "id": "d6a2c4cf",
   "metadata": {},
   "outputs": [],
   "source": [
    "rtvp.get_reply()"
   ]
  },
  {
   "cell_type": "markdown",
   "id": "320496bb",
   "metadata": {},
   "source": [
    "**VideoPlayer**"
   ]
  },
  {
   "cell_type": "code",
   "execution_count": null,
   "id": "2fec3946",
   "metadata": {},
   "outputs": [],
   "source": [
    "vp = ps.VideoPlayer(\"/home/michele/Desktop/Thesis/project/record-000.avi\", fps=30)"
   ]
  },
  {
   "cell_type": "code",
   "execution_count": null,
   "id": "db062ae8",
   "metadata": {},
   "outputs": [],
   "source": [
    "vp.seek_time(5)"
   ]
  },
  {
   "cell_type": "code",
   "execution_count": null,
   "id": "6ea7adff",
   "metadata": {},
   "outputs": [],
   "source": [
    "vp.quit()"
   ]
  },
  {
   "cell_type": "markdown",
   "id": "1f26795a",
   "metadata": {},
   "source": [
    "## Live plots"
   ]
  },
  {
   "cell_type": "code",
   "execution_count": null,
   "id": "8e37cdc2",
   "metadata": {},
   "outputs": [],
   "source": [
    "import panson as ps\n",
    "import pandas as pd\n",
    "%matplotlib qt5"
   ]
  },
  {
   "cell_type": "code",
   "execution_count": null,
   "id": "2ad76c47",
   "metadata": {},
   "outputs": [],
   "source": [
    "live_features = ps.live_features.LiveFeatureDisplay(['AU_04', 'AU_05'])"
   ]
  },
  {
   "cell_type": "code",
   "execution_count": null,
   "id": "0b87cf95",
   "metadata": {},
   "outputs": [],
   "source": [
    "live_features.feed(pd.Series([2,1], ['AU_04', 'AU_05']))"
   ]
  },
  {
   "cell_type": "code",
   "execution_count": null,
   "id": "b2344c46",
   "metadata": {},
   "outputs": [],
   "source": [
    "import sys, os, time, random\n",
    "import numpy as np\n",
    "\n",
    "import sc3nb as scn"
   ]
  },
  {
   "cell_type": "code",
   "execution_count": null,
   "id": "1ca90988",
   "metadata": {},
   "outputs": [],
   "source": [
    "sc = scn.startup()"
   ]
  },
  {
   "cell_type": "code",
   "execution_count": null,
   "id": "2ec8cfdf",
   "metadata": {},
   "outputs": [],
   "source": [
    "import matplotlib.pyplot as plt\n",
    "%matplotlib qt5"
   ]
  },
  {
   "cell_type": "markdown",
   "id": "1e0bfb88",
   "metadata": {},
   "source": [
    "## TimedQueueSC PMSon with timeseries data and matplotlib"
   ]
  },
  {
   "cell_type": "markdown",
   "id": "ebbedfb6",
   "metadata": {},
   "source": [
    "The following example illustrates howto create a continuous sonification with concurrent plotting the time in a plot\n",
    "\n",
    "* This presumes time-indexable data\n",
    "* a 'maximum onset' variable is maintained to shutdown the continuously playing synths when done\n",
    "* note that the highlight will only replot the marker, required time is thus independent of the amount of data plotted in the other plot."
   ]
  },
  {
   "cell_type": "code",
   "execution_count": null,
   "id": "e69fe3de",
   "metadata": {},
   "outputs": [],
   "source": [
    "ts = np.arange(0, 20, 0.01)\n",
    "data = np.vstack((ts, \n",
    "                  np.sin(2.5*ts) + 0.01*ts*np.random.randn(np.shape(ts)[0]), \n",
    "                  0.08*ts[::-1]*np.cos(3.5*ts)**2)).T"
   ]
  },
  {
   "cell_type": "code",
   "execution_count": null,
   "id": "43487eb3",
   "metadata": {
    "scrolled": true
   },
   "outputs": [],
   "source": [
    "# create figure\n",
    "fig, ax = plt.subplots(1)  # create figure\n",
    "mngr = plt.get_current_fig_manager()\n",
    "# mngr.window.setGeometry(1200, 0, 500, 400)\n",
    "\n",
    "# create axis, plots\n",
    "ax.clear()\n",
    "plmarked, = ax.plot([], [], \"r-\", lw=1)\n",
    "pldata1, = ax.plot(data[:,0], data[:,1], \"-\", ms=2) # create plot 1\n",
    "pldata2, = ax.plot(data[:,0], data[:,2], \"-\", ms=2) # create plot 2"
   ]
  },
  {
   "cell_type": "code",
   "execution_count": null,
   "id": "ff0ddf50",
   "metadata": {},
   "outputs": [],
   "source": [
    "# create the queue\n",
    "queue = scn.TimedQueueSC()\n",
    "\n",
    "def mapcol(row, stats, col, val_from, val_to):  # helper for mapping\n",
    "    return scn.linlin(row[col], stats[col, 0], stats[col, 1], val_from, val_to)\n",
    "\n",
    "def update_plot(t): \n",
    "    global fig, ax, pldata1, pldata2, plmarked, selected\n",
    "    plmarked.set_data([t,t], [-10000, 10000])\n",
    "    ax.draw_artist(ax.patch)\n",
    "    ax.draw_artist(pldata1)\n",
    "    ax.draw_artist(pldata2)\n",
    "    ax.draw_artist(plmarked)\n",
    "    fig.canvas.update()\n",
    "\n",
    "stats = np.vstack((np.min(data, 0), np.max(data, 0))).T\n",
    "selected = np.zeros(np.shape(data)[0], bool)\n",
    "\n",
    "# parameter mapping sonification with GUI\n",
    "delay = 0.5\n",
    "rate = 2\n",
    "\n",
    "t0 = time.time()\n",
    "queue.put_msg(t0, \"/s_new\", [\"s2\", 1200, 1, 0, \"amp\", 0])\n",
    "queue.put_msg(t0, \"/s_new\", [\"s2\", 1201, 1, 0, \"amp\", 0])\n",
    "\n",
    "max_onset = 0\n",
    "latest_gui_onset = 0\n",
    "gui_frame_rate = 60\n",
    "\n",
    "ts = []\n",
    "for i, r in enumerate(data[::2, :]):\n",
    "    ts.append(time.time()-t0)\n",
    "    if i==0: tmin = r[0]\n",
    "    onset = (r[0]-tmin)/rate\n",
    "    freq  = scn.midicps( mapcol(r, stats, 1, 60, 70))\n",
    "    freqR = 0.5 * scn.midicps( mapcol(r, stats, 2, 70, 80))\n",
    "\n",
    "    # sonification\n",
    "    tt = t0 + delay + onset\n",
    "    if tt > max_onset: max_onset = tt\n",
    "    bundler = scn.Bundler(tt)\n",
    "    bundler.add(0, \"/n_set\", [1200, \"freq\", freq, \"num\", 4, \"amp\", 0.2, \"pan\", -1, \"lg\", 0])\n",
    "    bundler.add(0, \"/n_set\", [1201, \"freq\", freqR, \"num\", 1, \"amp\", 0.1, \"pan\", 1])\n",
    "    queue.put_bundler(tt-0.2, bundler)\n",
    "    if tt > latest_gui_onset + 1/gui_frame_rate:  # not more than needed gui updates\n",
    "        latest_gui_onset = tt\n",
    "        queue.put(tt, update_plot, (r[0],), spawn=False)\n",
    "queue.put_msg(max_onset, \"/n_free\", [1200])\n",
    "queue.put_msg(max_onset, \"/n_free\", [1201])\n",
    "              \n",
    "# queue.join()\n",
    "print(time.time()-t0)"
   ]
  },
  {
   "cell_type": "code",
   "execution_count": null,
   "id": "db5a95d8",
   "metadata": {},
   "outputs": [],
   "source": [
    "import matplotlib.pyplot as plt\n",
    "import numpy as np\n",
    "\n",
    "from pandas import Series\n",
    "\n",
    "import time\n",
    "\n",
    "from IPython import get_ipython\n",
    "get_ipython().run_line_magic('matplotlib', 'qt5')\n",
    "\n",
    "\n",
    "class LiveFeatureDisplay:\n",
    "\n",
    "    def __init__(self):\n",
    "        ts = np.arange(0, 20, 0.01)\n",
    "        data = np.vstack((ts,\n",
    "                          np.sin(2.5 * ts) + 0.01 * ts * np.random.randn(np.shape(ts)[0]),\n",
    "                          0.08 * ts[::-1] * np.cos(3.5 * ts) ** 2)).T\n",
    "        \n",
    "        # create figure\n",
    "        self.fig, self.ax = plt.subplots(1)\n",
    "        mngr = plt.get_current_fig_manager()\n",
    "        # mngr.window.setGeometry(1200, 0, 500, 400)\n",
    "\n",
    "        # fig.show()\n",
    "\n",
    "        # create axis, plots\n",
    "        ax.clear()\n",
    "        plmarked, = ax.plot([], [], \"r-\", lw=1)\n",
    "        pldata1, = ax.plot(data[:, 0], data[:, 1], \"-\", ms=2)  # create plot 1\n",
    "        pldata2, = ax.plot(data[:, 0], data[:, 2], \"-\", ms=2)  # create plot 2\n",
    "\n",
    "    def feed(self, features: Series):\n",
    "\n",
    "        \n",
    "\n",
    "    def update_plot(self, t):\n",
    "        # pldata1, pldata2, plmarked, selected\n",
    "        # plmarked.set_data([t, t], [-10000, 10000])\n",
    "        \n",
    "        self.ax.draw_artist(self.ax.patch)\n",
    "        self.ax.draw_artist(pldata1)\n",
    "        self.ax.draw_artist(pldata2)\n",
    "        self.ax.draw_artist(plmarked)\n",
    "        self.fig.canvas.update()"
   ]
  },
  {
   "cell_type": "markdown",
   "id": "94c6bedd",
   "metadata": {},
   "source": [
    "## Record"
   ]
  },
  {
   "cell_type": "code",
   "execution_count": null,
   "id": "e7ed5e27",
   "metadata": {},
   "outputs": [],
   "source": [
    "scn.Recorder??"
   ]
  },
  {
   "cell_type": "code",
   "execution_count": null,
   "id": "bf5f5bf3",
   "metadata": {},
   "outputs": [],
   "source": [
    "# use the Recording class to capture the output\n",
    "recorder = scn.Recorder(path=\"my_record.wav\")\n",
    "\n",
    "with sc.server.bundler(send_on_exit=False) as bundler:\n",
    "    recorder.start(0.1)\n",
    "    # /s_new synth name, node id, add action (0 to head), target (1 default group), synth arguments...\n",
    "    scn.Synth(\"s1\", {\"freq\": 200, \"dur\": 1})\n",
    "    bundler.wait(0.3)\n",
    "    scn.Synth(\"s1\", {\"freq\": 300, \"dur\": 1})\n",
    "    recorder.stop(1.5)\n",
    "    \n",
    "bundler.messages()"
   ]
  },
  {
   "cell_type": "markdown",
   "id": "39d75ba4",
   "metadata": {},
   "source": [
    "## sc3nb startup"
   ]
  },
  {
   "cell_type": "code",
   "execution_count": null,
   "id": "2b47f03d",
   "metadata": {},
   "outputs": [],
   "source": [
    "import sc3nb as scn"
   ]
  },
  {
   "cell_type": "markdown",
   "id": "9f577574",
   "metadata": {},
   "source": [
    "If we start the default server in another kernel, this will connect to it using **remote**. Hence it will be considered non-local (it was not booted by this client)."
   ]
  },
  {
   "cell_type": "code",
   "execution_count": null,
   "id": "307c1c8e",
   "metadata": {},
   "outputs": [],
   "source": [
    "# start scsynth\n",
    "sc = scn.startup(start_sclang=False)\n",
    "# sc = scn.startup()\n",
    "\n",
    "# connect scsynth to the system playback\n",
    "!jack_connect \"SuperCollider:out_1\" \"system:playback_1\"\n",
    "!jack_connect \"SuperCollider:out_2\" \"system:playback_2\"\n",
    "\n",
    "# multiclient setup by default\n",
    "sc.server.dump_tree()"
   ]
  },
  {
   "cell_type": "markdown",
   "id": "0ea6dab3",
   "metadata": {},
   "source": [
    "If now we restart the notebook and execute the code again, **the original server will be killed** and the server will be started here.\n",
    "\n",
    "This is a very weird behaviour and it could confuse users that need to restart a notebook during development."
   ]
  },
  {
   "cell_type": "code",
   "execution_count": null,
   "id": "859427b0",
   "metadata": {},
   "outputs": [],
   "source": [
    "sc.server.query_tree()"
   ]
  },
  {
   "cell_type": "code",
   "execution_count": null,
   "id": "e329a71d",
   "metadata": {},
   "outputs": [],
   "source": [
    "sc.server.default_group"
   ]
  },
  {
   "cell_type": "code",
   "execution_count": null,
   "id": "7ee65c0f",
   "metadata": {},
   "outputs": [],
   "source": [
    "sc.server"
   ]
  },
  {
   "cell_type": "markdown",
   "id": "fef0631a",
   "metadata": {},
   "source": [
    "## Bundles"
   ]
  },
  {
   "cell_type": "markdown",
   "id": "f6a133cd",
   "metadata": {},
   "source": [
    "Automatic bundle nesting:\n",
    "* it can be useful for composite sonification"
   ]
  },
  {
   "cell_type": "code",
   "execution_count": null,
   "id": "48ff1c17",
   "metadata": {},
   "outputs": [],
   "source": [
    "with sc.server.bundler(send_on_exit=False) as bundler_outer:\n",
    "    with sc.server.bundler() as bundler:\n",
    "        sc.server.msg(\"/s_new\", [\"s2\", -1, 1, 1,], bundle=True)\n",
    "        bundler.wait(0.3)\n",
    "        sc.server.msg(\"/n_free\", [-1], bundle=True)\n",
    "    \n",
    "bundler_outer"
   ]
  },
  {
   "cell_type": "markdown",
   "id": "57689cd8",
   "metadata": {},
   "source": [
    "## Thread behaviour"
   ]
  },
  {
   "cell_type": "markdown",
   "id": "e515201b",
   "metadata": {},
   "source": [
    "The threads outputs results in the lastly executed cell.\n",
    "\n",
    "The cell return when the main thread finishes."
   ]
  },
  {
   "cell_type": "code",
   "execution_count": null,
   "id": "7473f239",
   "metadata": {},
   "outputs": [],
   "source": [
    "import threading\n",
    "import time\n",
    "\n",
    "def worker():\n",
    "    print(threading.current_thread().getName(), 'Starting')\n",
    "    time.sleep(10)\n",
    "    print(threading.current_thread().getName(), 'Exiting')\n",
    "\n",
    "\n",
    "def my_service():\n",
    "    print(threading.current_thread().getName(), 'Starting')\n",
    "    time.sleep(5)\n",
    "    print(threading.current_thread().getName(), 'Exiting')\n",
    "\n",
    "\n",
    "t = threading.Thread(name='my_service', target=my_service)\n",
    "w = threading.Thread(name='worker', target=worker)\n",
    "w2 = threading.Thread(target=worker)  # use default name\n",
    "\n",
    "w.start()\n",
    "w2.start()\n",
    "t.start()\n",
    "\n",
    "# # wait until threads terminate\n",
    "# w.join()\n",
    "# w2.join()\n",
    "# t.join()"
   ]
  },
  {
   "cell_type": "code",
   "execution_count": null,
   "id": "af37a040",
   "metadata": {},
   "outputs": [],
   "source": [
    "print('test')"
   ]
  },
  {
   "cell_type": "markdown",
   "id": "7ac5f3bf",
   "metadata": {},
   "source": [
    "## Misc"
   ]
  },
  {
   "cell_type": "markdown",
   "id": "9572b71e",
   "metadata": {},
   "source": [
    "Save frame information as csv as expected by the videoviewer"
   ]
  },
  {
   "cell_type": "code",
   "execution_count": null,
   "id": "b35aa09b",
   "metadata": {},
   "outputs": [],
   "source": [
    "timestamps = df.timestamp.to_numpy()\n",
    "np.savetxt('phone.avi.csv', timestamps, delimiter=',')"
   ]
  },
  {
   "cell_type": "markdown",
   "id": "5bb9baf3",
   "metadata": {},
   "source": [
    "### Video"
   ]
  },
  {
   "cell_type": "markdown",
   "id": "2a38c085",
   "metadata": {},
   "source": [
    "#### ipywidgets"
   ]
  },
  {
   "cell_type": "code",
   "execution_count": null,
   "id": "cf69bca0",
   "metadata": {},
   "outputs": [],
   "source": [
    "from ipywidgets import Video\n",
    "video = Video.from_file('NRT_videos/phone-processed-son.mp4')\n",
    "video"
   ]
  },
  {
   "cell_type": "code",
   "execution_count": null,
   "id": "a151ac32",
   "metadata": {},
   "outputs": [],
   "source": [
    "from ipywidgets import Image\n",
    "image = Image()"
   ]
  },
  {
   "cell_type": "markdown",
   "id": "908127a3",
   "metadata": {},
   "source": [
    "#### PyQt"
   ]
  },
  {
   "cell_type": "markdown",
   "id": "96e69776",
   "metadata": {},
   "source": [
    "The following cell enable PyQt5 event loop integration. This is done by opening a QApplication for your notebook. This means that we have to avoid creating QApplication objects in our code (and consequenctly to start the event loop).\n",
    "* https://stackoverflow.com/questions/30606462/closing-a-pyqt-widget-in-ipython-notebook-without-using-sys-exit\n",
    "\n",
    "We can run the following magic as many times as we want, but we have to avoid creating QApplications in our code."
   ]
  },
  {
   "cell_type": "code",
   "execution_count": null,
   "id": "c82300ae",
   "metadata": {},
   "outputs": [],
   "source": [
    "%gui qt5\n",
    "\n",
    "from PyQt5 import QtWidgets, QtCore\n",
    "import pyqtgraph as pg"
   ]
  },
  {
   "cell_type": "code",
   "execution_count": null,
   "id": "39906d44",
   "metadata": {},
   "outputs": [],
   "source": [
    "QtCore.QCoreApplication.instance()"
   ]
  },
  {
   "cell_type": "markdown",
   "id": "4022729f",
   "metadata": {},
   "source": [
    "The following disables IPython GUI event loop integration."
   ]
  },
  {
   "cell_type": "code",
   "execution_count": null,
   "id": "33d028f4",
   "metadata": {},
   "outputs": [],
   "source": [
    "# %gui"
   ]
  },
  {
   "cell_type": "code",
   "execution_count": null,
   "id": "b9ff14a2",
   "metadata": {},
   "outputs": [],
   "source": [
    "# # GUI initialization\n",
    "# window = QtWidgets.QWidget()\n",
    "\n",
    "# imggv = pg.GraphicsView()\n",
    "# viewbox = pg.ViewBox()\n",
    "# viewbox.setAspectLocked()\n",
    "# viewbox.invertY(True)\n",
    "\n",
    "# imggv.setCentralItem(viewbox)\n",
    "\n",
    "# img = pg.ImageItem(np.zeros((100, 100, 3)))  # Todo: 3 -> channel variable\n",
    "# viewbox.addItem(img)\n",
    "\n",
    "# layout = QtWidgets.QGridLayout()\n",
    "# layout.addWidget(imggv, 0, 0, 4, 4)\n",
    "# window.setLayout(layout)\n",
    "\n",
    "# # window always on top\n",
    "# window.setWindowFlag(QtCore.Qt.WindowStaysOnTopHint)\n",
    "\n",
    "# window.show()"
   ]
  },
  {
   "cell_type": "code",
   "execution_count": null,
   "id": "47208603",
   "metadata": {},
   "outputs": [],
   "source": [
    "from videoviewer import NBVideoViewer\n",
    "\n",
    "vv = NBVideoViewer()\n",
    "vv.start()"
   ]
  },
  {
   "cell_type": "code",
   "execution_count": null,
   "id": "a5d13548",
   "metadata": {},
   "outputs": [],
   "source": [
    "import skvideo\n",
    "import skvideo.io\n",
    "\n",
    "frames = skvideo.io.vread('files/processed/phone.avi')\n",
    "frames.shape"
   ]
  },
  {
   "cell_type": "code",
   "execution_count": null,
   "id": "0626107f",
   "metadata": {},
   "outputs": [],
   "source": [
    "# frame = frames[0, ::5, ::5, [0,1,2]].T\n",
    "# img.setImage(frame)"
   ]
  },
  {
   "cell_type": "code",
   "execution_count": null,
   "id": "d2ae37fc",
   "metadata": {},
   "outputs": [],
   "source": [
    "import ipywidgets as widgets"
   ]
  },
  {
   "cell_type": "code",
   "execution_count": null,
   "id": "70396a71",
   "metadata": {},
   "outputs": [],
   "source": [
    "au4_node_id = 1234\n",
    "# instantiate synths\n",
    "sc.server.msg(\"/s_new\", [\"s2\", au4_node_id, 0, 0, \"amp\", 0])"
   ]
  },
  {
   "cell_type": "code",
   "execution_count": null,
   "id": "536c89ae",
   "metadata": {},
   "outputs": [],
   "source": [
    "sc.server.free_all()"
   ]
  },
  {
   "cell_type": "code",
   "execution_count": null,
   "id": "31f73c3d",
   "metadata": {},
   "outputs": [],
   "source": [
    "max_ = 332\n",
    "\n",
    "# out = widgets.Output()\n",
    "\n",
    "def on_change(change):\n",
    "    # with out:\n",
    "    #    print(change.new)\n",
    "    \n",
    "    idx = change.new\n",
    "    \n",
    "    row = df.iloc[idx]\n",
    "\n",
    "    # only \"max\" should be enough (to clip the top part to 0.3)\n",
    "    amp = scn.linlin(row[\"AU04_r\"], 0, 1, 0, 0.3, \"minmax\")   # TODO: exponential mapping\n",
    "    # map the intensity of the AU in one octave range\n",
    "    freq = scn.midicps(scn.linlin(row[\"AU04_r\"], 0, 5, 69, 81))\n",
    "\n",
    "    with sc.server.bundler(0.1) as bundler:\n",
    "        sc.server.msg(\"/n_set\", [au4_node_id, \"amp\", amp, \"freq\", freq], bundle=True)\n",
    "\n",
    "    frame = frames[idx, ::5, ::5, [0,1,2]]\n",
    "    vv.update(frame)\n",
    "    \n",
    "def on_play_stop(change):\n",
    "    \n",
    "    # when the video is paused\n",
    "    if change.now == False:\n",
    "        # silence all the synths\n",
    "        with sc.server.bundler() as bundler:\n",
    "            sc.server.msg(\"/n_set\", [au4_node_id, \"amp\", 0], bundle=True)\n",
    "    \n",
    "        \n",
    "slider = widgets.IntSlider(max=max_)\n",
    "\n",
    "# can't play data with unregolar sampling rate\n",
    "play = widgets.Play(\n",
    "    max=max_,\n",
    "    step=1,\n",
    "    interval=33,\n",
    "    disabled=False\n",
    ")\n",
    "\n",
    "play.observe(on_change, names='value')\n",
    "play.observe(on_play_stop, names='_playing')\n",
    "\n",
    "widgets.jslink((play, 'value'), (slider, 'value'))\n",
    "widgets.HBox([play, slider])"
   ]
  },
  {
   "cell_type": "code",
   "execution_count": null,
   "id": "ccc675c8",
   "metadata": {},
   "outputs": [],
   "source": [
    "def sonification_callback(event):\n",
    "    frame_idx = event.cls.value\n",
    "    \n",
    "#     sonify_row(df.iloc[frame_idx])\n",
    "    img.setImage(frames[frame_idx, ::5, ::5, [0,1,2]].T)"
   ]
  }
 ],
 "metadata": {
  "kernelspec": {
   "display_name": "Python [conda env:face]",
   "language": "python",
   "name": "conda-env-face-py"
  },
  "language_info": {
   "codemirror_mode": {
    "name": "ipython",
    "version": 3
   },
   "file_extension": ".py",
   "mimetype": "text/x-python",
   "name": "python",
   "nbconvert_exporter": "python",
   "pygments_lexer": "ipython3",
   "version": "3.9.10"
  }
 },
 "nbformat": 4,
 "nbformat_minor": 5
}
