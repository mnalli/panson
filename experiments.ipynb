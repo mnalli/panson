{
 "cells": [
  {
   "cell_type": "markdown",
   "id": "fef0631a",
   "metadata": {},
   "source": [
    "## Bundles"
   ]
  },
  {
   "cell_type": "markdown",
   "id": "f6a133cd",
   "metadata": {},
   "source": [
    "Automatic bundle nesting:\n",
    "* it can be useful for composite sonification"
   ]
  },
  {
   "cell_type": "code",
   "execution_count": null,
   "id": "48ff1c17",
   "metadata": {},
   "outputs": [],
   "source": [
    "with sc.server.bundler(send_on_exit=False) as bundler_outer:\n",
    "    with sc.server.bundler() as bundler:\n",
    "        sc.server.msg(\"/s_new\", [\"s2\", -1, 1, 1,], bundle=True)\n",
    "        bundler.wait(0.3)\n",
    "        sc.server.msg(\"/n_free\", [-1], bundle=True)\n",
    "    \n",
    "bundler_outer"
   ]
  },
  {
   "cell_type": "markdown",
   "id": "57689cd8",
   "metadata": {},
   "source": [
    "## Thread behaviour"
   ]
  },
  {
   "cell_type": "markdown",
   "id": "e515201b",
   "metadata": {},
   "source": [
    "The threads outputs results in the lastly executed cell.\n",
    "\n",
    "The cell return when the main thread finishes."
   ]
  },
  {
   "cell_type": "code",
   "execution_count": null,
   "id": "7473f239",
   "metadata": {},
   "outputs": [],
   "source": [
    "import threading\n",
    "import time\n",
    "\n",
    "def worker():\n",
    "    print(threading.current_thread().getName(), 'Starting')\n",
    "    time.sleep(10)\n",
    "    print(threading.current_thread().getName(), 'Exiting')\n",
    "\n",
    "\n",
    "def my_service():\n",
    "    print(threading.current_thread().getName(), 'Starting')\n",
    "    time.sleep(5)\n",
    "    print(threading.current_thread().getName(), 'Exiting')\n",
    "\n",
    "\n",
    "t = threading.Thread(name='my_service', target=my_service)\n",
    "w = threading.Thread(name='worker', target=worker)\n",
    "w2 = threading.Thread(target=worker)  # use default name\n",
    "\n",
    "w.start()\n",
    "w2.start()\n",
    "t.start()\n",
    "\n",
    "# # wait until threads terminate\n",
    "# w.join()\n",
    "# w2.join()\n",
    "# t.join()"
   ]
  },
  {
   "cell_type": "code",
   "execution_count": null,
   "id": "af37a040",
   "metadata": {},
   "outputs": [],
   "source": [
    "print('test')"
   ]
  },
  {
   "cell_type": "markdown",
   "id": "7ac5f3bf",
   "metadata": {},
   "source": [
    "## Misc"
   ]
  },
  {
   "cell_type": "markdown",
   "id": "9572b71e",
   "metadata": {},
   "source": [
    "Save frame information as csv as expected by the videoviewer"
   ]
  },
  {
   "cell_type": "code",
   "execution_count": null,
   "id": "b35aa09b",
   "metadata": {},
   "outputs": [],
   "source": [
    "timestamps = df.timestamp.to_numpy()\n",
    "np.savetxt('phone.avi.csv', timestamps, delimiter=',')"
   ]
  },
  {
   "cell_type": "markdown",
   "id": "5bb9baf3",
   "metadata": {},
   "source": [
    "### Video"
   ]
  },
  {
   "cell_type": "markdown",
   "id": "2a38c085",
   "metadata": {},
   "source": [
    "#### ipywidgets"
   ]
  },
  {
   "cell_type": "code",
   "execution_count": null,
   "id": "cf69bca0",
   "metadata": {},
   "outputs": [],
   "source": [
    "from ipywidgets import Video\n",
    "video = Video.from_file('NRT_videos/phone-processed-son.mp4')\n",
    "video"
   ]
  },
  {
   "cell_type": "code",
   "execution_count": null,
   "id": "a151ac32",
   "metadata": {},
   "outputs": [],
   "source": [
    "from ipywidgets import Image\n",
    "image = Image()"
   ]
  },
  {
   "cell_type": "markdown",
   "id": "908127a3",
   "metadata": {},
   "source": [
    "#### PyQt"
   ]
  },
  {
   "cell_type": "markdown",
   "id": "96e69776",
   "metadata": {},
   "source": [
    "The following cell enable PyQt5 event loop integration. This is done by opening a QApplication for your notebook. This means that we have to avoid creating QApplication objects in our code (and consequenctly to start the event loop).\n",
    "* https://stackoverflow.com/questions/30606462/closing-a-pyqt-widget-in-ipython-notebook-without-using-sys-exit\n",
    "\n",
    "We can run the following magic as many times as we want, but we have to avoid creating QApplications in our code."
   ]
  },
  {
   "cell_type": "code",
   "execution_count": null,
   "id": "c82300ae",
   "metadata": {},
   "outputs": [],
   "source": [
    "%gui qt5\n",
    "\n",
    "from PyQt5 import QtWidgets, QtCore\n",
    "import pyqtgraph as pg"
   ]
  },
  {
   "cell_type": "code",
   "execution_count": null,
   "id": "39906d44",
   "metadata": {},
   "outputs": [],
   "source": [
    "QtCore.QCoreApplication.instance()"
   ]
  },
  {
   "cell_type": "markdown",
   "id": "4022729f",
   "metadata": {},
   "source": [
    "The following disables IPython GUI event loop integration."
   ]
  },
  {
   "cell_type": "code",
   "execution_count": null,
   "id": "33d028f4",
   "metadata": {},
   "outputs": [],
   "source": [
    "# %gui"
   ]
  },
  {
   "cell_type": "code",
   "execution_count": null,
   "id": "b9ff14a2",
   "metadata": {},
   "outputs": [],
   "source": [
    "# # GUI initialization\n",
    "# window = QtWidgets.QWidget()\n",
    "\n",
    "# imggv = pg.GraphicsView()\n",
    "# viewbox = pg.ViewBox()\n",
    "# viewbox.setAspectLocked()\n",
    "# viewbox.invertY(True)\n",
    "\n",
    "# imggv.setCentralItem(viewbox)\n",
    "\n",
    "# img = pg.ImageItem(np.zeros((100, 100, 3)))  # Todo: 3 -> channel variable\n",
    "# viewbox.addItem(img)\n",
    "\n",
    "# layout = QtWidgets.QGridLayout()\n",
    "# layout.addWidget(imggv, 0, 0, 4, 4)\n",
    "# window.setLayout(layout)\n",
    "\n",
    "# # window always on top\n",
    "# window.setWindowFlag(QtCore.Qt.WindowStaysOnTopHint)\n",
    "\n",
    "# window.show()"
   ]
  },
  {
   "cell_type": "code",
   "execution_count": null,
   "id": "47208603",
   "metadata": {},
   "outputs": [],
   "source": [
    "from videoviewer import NBVideoViewer\n",
    "\n",
    "vv = NBVideoViewer()\n",
    "vv.start()"
   ]
  },
  {
   "cell_type": "code",
   "execution_count": null,
   "id": "a5d13548",
   "metadata": {},
   "outputs": [],
   "source": [
    "import skvideo\n",
    "import skvideo.io\n",
    "\n",
    "frames = skvideo.io.vread('files/processed/phone.avi')\n",
    "frames.shape"
   ]
  },
  {
   "cell_type": "code",
   "execution_count": null,
   "id": "0626107f",
   "metadata": {},
   "outputs": [],
   "source": [
    "# frame = frames[0, ::5, ::5, [0,1,2]].T\n",
    "# img.setImage(frame)"
   ]
  },
  {
   "cell_type": "code",
   "execution_count": null,
   "id": "d2ae37fc",
   "metadata": {},
   "outputs": [],
   "source": [
    "import ipywidgets as widgets"
   ]
  },
  {
   "cell_type": "code",
   "execution_count": null,
   "id": "70396a71",
   "metadata": {},
   "outputs": [],
   "source": [
    "au4_node_id = 1234\n",
    "# instantiate synths\n",
    "sc.server.msg(\"/s_new\", [\"s2\", au4_node_id, 0, 0, \"amp\", 0])"
   ]
  },
  {
   "cell_type": "code",
   "execution_count": null,
   "id": "536c89ae",
   "metadata": {},
   "outputs": [],
   "source": [
    "sc.server.free_all()"
   ]
  },
  {
   "cell_type": "code",
   "execution_count": null,
   "id": "31f73c3d",
   "metadata": {},
   "outputs": [],
   "source": [
    "max_ = 332\n",
    "\n",
    "# out = widgets.Output()\n",
    "\n",
    "def on_change(change):\n",
    "    # with out:\n",
    "    #    print(change.new)\n",
    "    \n",
    "    idx = change.new\n",
    "    \n",
    "    row = df.iloc[idx]\n",
    "\n",
    "    # only \"max\" should be enough (to clip the top part to 0.3)\n",
    "    amp = scn.linlin(row[\"AU04_r\"], 0, 1, 0, 0.3, \"minmax\")   # TODO: exponential mapping\n",
    "    # map the intensity of the AU in one octave range\n",
    "    freq = scn.midicps(scn.linlin(row[\"AU04_r\"], 0, 5, 69, 81))\n",
    "\n",
    "    with sc.server.bundler(0.1) as bundler:\n",
    "        sc.server.msg(\"/n_set\", [au4_node_id, \"amp\", amp, \"freq\", freq], bundle=True)\n",
    "\n",
    "    frame = frames[idx, ::5, ::5, [0,1,2]]\n",
    "    vv.update(frame)\n",
    "    \n",
    "def on_play_stop(change):\n",
    "    \n",
    "    # when the video is paused\n",
    "    if change.now == False:\n",
    "        # silence all the synths\n",
    "        with sc.server.bundler() as bundler:\n",
    "            sc.server.msg(\"/n_set\", [au4_node_id, \"amp\", 0], bundle=True)\n",
    "    \n",
    "        \n",
    "slider = widgets.IntSlider(max=max_)\n",
    "\n",
    "# can't play data with unregolar sampling rate\n",
    "play = widgets.Play(\n",
    "    max=max_,\n",
    "    step=1,\n",
    "    interval=33,\n",
    "    disabled=False\n",
    ")\n",
    "\n",
    "play.observe(on_change, names='value')\n",
    "play.observe(on_play_stop, names='_playing')\n",
    "\n",
    "widgets.jslink((play, 'value'), (slider, 'value'))\n",
    "widgets.HBox([play, slider])"
   ]
  },
  {
   "cell_type": "code",
   "execution_count": null,
   "id": "ccc675c8",
   "metadata": {},
   "outputs": [],
   "source": [
    "def sonification_callback(event):\n",
    "    frame_idx = event.cls.value\n",
    "    \n",
    "#     sonify_row(df.iloc[frame_idx])\n",
    "    img.setImage(frames[frame_idx, ::5, ::5, [0,1,2]].T)"
   ]
  }
 ],
 "metadata": {
  "kernelspec": {
   "display_name": "Python [conda env:face]",
   "language": "python",
   "name": "conda-env-face-py"
  },
  "language_info": {
   "codemirror_mode": {
    "name": "ipython",
    "version": 3
   },
   "file_extension": ".py",
   "mimetype": "text/x-python",
   "name": "python",
   "nbconvert_exporter": "python",
   "pygments_lexer": "ipython3",
   "version": "3.9.7"
  }
 },
 "nbformat": 4,
 "nbformat_minor": 5
}
